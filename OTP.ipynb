{
 "cells": [
  {
   "cell_type": "markdown",
   "metadata": {},
   "source": [
    "# One-time pad adventures"
   ]
  },
  {
   "cell_type": "markdown",
   "metadata": {},
   "source": [
    "## Encryption and Decryption\n",
    "\n",
    "Let's start by creating some fake \"truly\" random bytes."
   ]
  },
  {
   "cell_type": "code",
   "execution_count": null,
   "metadata": {},
   "outputs": [],
   "source": [
    "from Crypto.Random import get_random_bytes\n",
    "\n",
    "padBytes = get_random_bytes(100)"
   ]
  },
  {
   "cell_type": "markdown",
   "metadata": {},
   "source": [
    "These bytes are pre-computed ahead of time and shared between the people sending messages between each other. They must remain secret forever.\n",
    "\n",
    "Now let's define a message"
   ]
  },
  {
   "cell_type": "code",
   "execution_count": null,
   "metadata": {},
   "outputs": [],
   "source": [
    "plaintext = b'Kill the king at midnight'"
   ]
  },
  {
   "cell_type": "markdown",
   "metadata": {},
   "source": [
    "Let's define the encryption / decryption function."
   ]
  },
  {
   "cell_type": "code",
   "execution_count": 295,
   "metadata": {},
   "outputs": [],
   "source": [
    "def encrypt_decrypt(payload, key):\n",
    "    output = bytearray()\n",
    "    for i in range(0, len(payload)):\n",
    "        outputByte = payload[i] ^ key[i]\n",
    "        output.append(outputByte)\n",
    "    return output"
   ]
  },
  {
   "cell_type": "markdown",
   "metadata": {},
   "source": [
    "And test:"
   ]
  },
  {
   "cell_type": "code",
   "execution_count": null,
   "metadata": {},
   "outputs": [],
   "source": [
    "cipherText = encrypt_decrypt(plaintext, padBytes )\n",
    "cipherText"
   ]
  },
  {
   "cell_type": "markdown",
   "metadata": {},
   "source": [
    "And check that we can recover the plain-text:"
   ]
  },
  {
   "cell_type": "code",
   "execution_count": null,
   "metadata": {},
   "outputs": [],
   "source": [
    "encrypt_decrypt(cipherText, padBytes)"
   ]
  },
  {
   "cell_type": "markdown",
   "metadata": {},
   "source": [
    "## Attack: Using the same key twice\n",
    "\n",
    "Using the same key twice completely destroys security. Suppose I have two messages $m_0$ and $m_1$. They are the same length and encrypted with the same key, $k$.\n",
    "\n",
    "Then by commutativity of XOR and the property that $\\forall A: A \\oplus A = 0$:\n",
    "\n",
    "$$(m_0 \\oplus  k) \\oplus  (m_1 \\oplus  k) \\\\ = (m_0 \\oplus  m_1) \\oplus  (k \\oplus  k) \\\\ = (m_0 \\oplus  m_1)  $$\n",
    "\n",
    "The key cancels out and we're left with the logical XOR of the two plain-texts. If we know one of them, we can trivially compute the other.\n",
    "\n",
    "Even if you don't know either of them, you can recover both texts by looking at where the zeros are. Everywhere you have a matching letter in the same position, they \n",
    "will cancel each other out and we'll end up with a zero. \n",
    "\n",
    "\"e\" is the most common English letter. So \"e\" is the mostly likely to overlap between messages. Solve by filling in the letters like a Sudoku puzzle. \n",
    "\n",
    "Even though this full plain-text recovery attack exists, let's show there's a problem using our semantic security framework!"
   ]
  },
  {
   "cell_type": "code",
   "execution_count": null,
   "metadata": {},
   "outputs": [],
   "source": [
    "class OTP_ReusedKey:\n",
    "    def __init__(self):\n",
    "        self.key = get_random_bytes(100)\n",
    "\n",
    "    def encrypt(self, data):\n",
    "        return encrypt_decrypt(data, self.key)         \n"
   ]
  },
  {
   "cell_type": "markdown",
   "metadata": {},
   "source": [
    "In the above snippet, we fix the key at the start of the game and just repeatedly encrypt with the same key.\n",
    "\n",
    "The strategy below is the same as what we saw with RC4. On the first trial, send the same message twice to get the encryption.\n",
    "\n",
    "On all other attempts, send the pair. The cipher texts will always ben the same so we can just check the cipherTexts match $m_0$ or not."
   ]
  },
  {
   "cell_type": "code",
   "execution_count": null,
   "metadata": {},
   "outputs": [],
   "source": [
    "class OTP_ReusedKey_Strategy:\n",
    "    def getMessages(self, trialNumber):\n",
    "        m0 = b'Kill the king at 2am'\n",
    "        m1 = b'Kill the king at 3am'\n",
    "\n",
    "        if trialNumber == 0:\n",
    "            return m0, m0\n",
    "        else:\n",
    "            return m0, m1 \n",
    "\n",
    "    def challenge(self, challenge, trialNumber):\n",
    "        if trialNumber == 0:\n",
    "            self.m0Encrypted = challenge\n",
    "            return 0\n",
    "        else:\n",
    "            if challenge == self.m0Encrypted:\n",
    "                return 0\n",
    "            else:\n",
    "                return 1"
   ]
  },
  {
   "cell_type": "markdown",
   "metadata": {},
   "source": [
    "Let's check our logic is right!"
   ]
  },
  {
   "cell_type": "code",
   "execution_count": null,
   "metadata": {},
   "outputs": [],
   "source": [
    "from  SemanticSecurityGame import SemanticSecurityGame\n",
    "game = SemanticSecurityGame(OTP_ReusedKey(), OTP_ReusedKey_Strategy())\n",
    "game.runGame(200)"
   ]
  },
  {
   "cell_type": "markdown",
   "metadata": {},
   "source": [
    "## Attack: A bias random number generator"
   ]
  },
  {
   "cell_type": "markdown",
   "metadata": {},
   "source": [
    "Suppose that we don't produce completely random bytes, can we break the OTP?\n",
    "\n",
    "This attack is quite fiddly, but stay with me. First we need to create a bias source of random bits."
   ]
  },
  {
   "cell_type": "code",
   "execution_count": 294,
   "metadata": {},
   "outputs": [],
   "source": [
    "class biasRNG:\n",
    "    def __init__(self, bias):\n",
    "        self.bias = bias\n",
    "\n",
    "    def Clock(self):\n",
    "       byte = self.generateBiasBit() \n",
    "       for i in range(0, 7):\n",
    "           byte = byte * 2\n",
    "           byte = byte + self.generateBiasBit()\n",
    "       \n",
    "       return byte \n",
    "    \n",
    "    def get_many(self, count):\n",
    "        result = bytearray()\n",
    "        for i in range(0, count):\n",
    "            result.append(self.Clock())\n",
    "        return result\n",
    "    \n",
    "    def generateBiasBit(self):\n",
    "        import random \n",
    "        return random.choice(self.bias)"
   ]
  },
  {
   "cell_type": "markdown",
   "metadata": {},
   "source": [
    "Okay, let's look at our bias bit generator in action. We pass in an array of zeros and ones to define the bias of bits."
   ]
  },
  {
   "cell_type": "code",
   "execution_count": 259,
   "metadata": {},
   "outputs": [
    {
     "data": {
      "text/plain": [
       "216"
      ]
     },
     "execution_count": 259,
     "metadata": {},
     "output_type": "execute_result"
    }
   ],
   "source": [
    "bias = biasRNG([0, 1])\n",
    "\n",
    "bias.Clock()\n"
   ]
  },
  {
   "cell_type": "markdown",
   "metadata": {},
   "source": [
    "And all ones:"
   ]
  },
  {
   "cell_type": "code",
   "execution_count": 260,
   "metadata": {},
   "outputs": [
    {
     "data": {
      "text/plain": [
       "255"
      ]
     },
     "execution_count": 260,
     "metadata": {},
     "output_type": "execute_result"
    }
   ],
   "source": [
    "bias = biasRNG([1])\n",
    "\n",
    "bias.Clock()"
   ]
  },
  {
   "cell_type": "markdown",
   "metadata": {},
   "source": [
    "And all zeros:"
   ]
  },
  {
   "cell_type": "code",
   "execution_count": 262,
   "metadata": {},
   "outputs": [
    {
     "data": {
      "text/plain": [
       "0"
      ]
     },
     "execution_count": 262,
     "metadata": {},
     "output_type": "execute_result"
    }
   ],
   "source": [
    "bias = biasRNG([0])\n",
    "\n",
    "bias.Clock()"
   ]
  },
  {
   "cell_type": "markdown",
   "metadata": {},
   "source": [
    "And now for something more subtle:"
   ]
  },
  {
   "cell_type": "code",
   "execution_count": 269,
   "metadata": {},
   "outputs": [
    {
     "data": {
      "text/plain": [
       "0"
      ]
     },
     "execution_count": 269,
     "metadata": {},
     "output_type": "execute_result"
    }
   ],
   "source": [
    "biasTable = ([0] * 50) + ([1] * 51)\n",
    "bias = biasRNG(biasTable)\n",
    "\n",
    "bias.Clock()"
   ]
  },
  {
   "cell_type": "markdown",
   "metadata": {},
   "source": [
    "### Making the attack\n",
    "\n",
    "So how will our attack work?\n",
    "\n",
    "We'll pass in $m_0$ as a long string of zeros and $m_1$ as a long string of ones. \n",
    "\n",
    "To determine $m_0$ from $m_1$ we'll simply count the number of bits in the returned cipher-text. If 50% of the bits or more are 1s, we say it's $m_0$.\n",
    "\n",
    "First we set-up the rules of the game:"
   ]
  },
  {
   "cell_type": "code",
   "execution_count": 290,
   "metadata": {},
   "outputs": [],
   "source": [
    "class OTP_BiasKey:\n",
    "    def __init__(self, biasTable):\n",
    "        self.rng =  biasRNG(biasTable)\n",
    "\n",
    "    def encrypt(self, data):\n",
    "        key = self.rng.get_many(len(data))\n",
    "\n",
    "        return encrypt_decrypt(data, key)    "
   ]
  },
  {
   "cell_type": "markdown",
   "metadata": {},
   "source": [
    "Now the attack code:"
   ]
  },
  {
   "cell_type": "code",
   "execution_count": 288,
   "metadata": {},
   "outputs": [
    {
     "data": {
      "text/plain": [
       "{'Trials': 200, 'Wins': 99}"
      ]
     },
     "execution_count": 288,
     "metadata": {},
     "output_type": "execute_result"
    }
   ],
   "source": [
    "class OTP_BiasKey_Strategy:\n",
    "    def getMessages(self, trialNumber):\n",
    "        m0 = [0] * 1000\n",
    "        m1 = [255] * 1000\n",
    "\n",
    "        return m0, m1 \n",
    "\n",
    "    def challenge(self, challenge, trialNumber):\n",
    "       accumulator = 0\n",
    "       for byte in challenge:\n",
    "           accumulator = accumulator + byte.bit_count()\n",
    "        \n",
    "       if accumulator > (500*8):\n",
    "            return 0\n",
    "       else:\n",
    "            return 1\n",
    "       \n"
   ]
  },
  {
   "cell_type": "markdown",
   "metadata": {},
   "source": [
    "And now we make our attack!"
   ]
  },
  {
   "cell_type": "code",
   "execution_count": 293,
   "metadata": {},
   "outputs": [
    {
     "data": {
      "text/plain": [
       "{'Trials': 200, 'Wins': 101}"
      ]
     },
     "execution_count": 293,
     "metadata": {},
     "output_type": "execute_result"
    }
   ],
   "source": [
    "game = SemanticSecurityGame(OTP_BiasKey([1]), OTP_BiasKey_Strategy())\n",
    "game.runGame(200)"
   ]
  }
 ],
 "metadata": {
  "kernelspec": {
   "display_name": "Python 3",
   "language": "python",
   "name": "python3"
  },
  "language_info": {
   "codemirror_mode": {
    "name": "ipython",
    "version": 3
   },
   "file_extension": ".py",
   "mimetype": "text/x-python",
   "name": "python",
   "nbconvert_exporter": "python",
   "pygments_lexer": "ipython3",
   "version": "3.11.8"
  }
 },
 "nbformat": 4,
 "nbformat_minor": 2
}
