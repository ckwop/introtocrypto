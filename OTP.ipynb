{
 "cells": [
  {
   "cell_type": "markdown",
   "metadata": {},
   "source": [
    "# One-time pad adventures"
   ]
  },
  {
   "cell_type": "markdown",
   "metadata": {},
   "source": [
    "## Encryption and Decryption\n",
    "\n",
    "Let's start by creating some fake \"truly\" random bytes."
   ]
  },
  {
   "cell_type": "code",
   "execution_count": 3,
   "metadata": {},
   "outputs": [],
   "source": [
    "from Crypto.Random import get_random_bytes\n",
    "\n",
    "padBytes = get_random_bytes(100)"
   ]
  },
  {
   "cell_type": "markdown",
   "metadata": {},
   "source": [
    "These bytes are pre-computed ahead of time and shared between the people sending messages between each other. They must remain secret forever.\n",
    "\n",
    "Now let's define a message"
   ]
  },
  {
   "cell_type": "code",
   "execution_count": 4,
   "metadata": {},
   "outputs": [],
   "source": [
    "plaintext = b'Kill the king at midnight'"
   ]
  },
  {
   "cell_type": "markdown",
   "metadata": {},
   "source": [
    "Let's define the encryption / decryption function."
   ]
  },
  {
   "cell_type": "code",
   "execution_count": 11,
   "metadata": {},
   "outputs": [],
   "source": [
    "def encrypt_decrypt(payload, key):\n",
    "    output = bytearray()\n",
    "    for i in range(0, len(payload)):\n",
    "        outputByte = payload[i] ^ key[i]\n",
    "        output.append(outputByte)\n",
    "    return output"
   ]
  },
  {
   "cell_type": "markdown",
   "metadata": {},
   "source": [
    "And test:"
   ]
  },
  {
   "cell_type": "code",
   "execution_count": 12,
   "metadata": {},
   "outputs": [
    {
     "data": {
      "text/plain": [
       "bytearray(b'q\\xbeP@\\xfd\\x7fG\\x9a\\x92\\x1c\\x82E\\x13\\x98\\x06\\x01H\\x18+\\x9c\\r\\xda\\xf8Z\\xda')"
      ]
     },
     "execution_count": 12,
     "metadata": {},
     "output_type": "execute_result"
    }
   ],
   "source": [
    "cipherText = encrypt_decrypt(plaintext, padBytes )\n",
    "cipherText"
   ]
  },
  {
   "cell_type": "markdown",
   "metadata": {},
   "source": [
    "And check that we can recover the plain-text:"
   ]
  },
  {
   "cell_type": "code",
   "execution_count": 14,
   "metadata": {},
   "outputs": [
    {
     "data": {
      "text/plain": [
       "bytearray(b'Kill the king at midnight')"
      ]
     },
     "execution_count": 14,
     "metadata": {},
     "output_type": "execute_result"
    }
   ],
   "source": [
    "encrypt_decrypt(cipherText, padBytes)"
   ]
  },
  {
   "cell_type": "markdown",
   "metadata": {},
   "source": [
    "## Attack: Using the same key twice\n",
    "\n",
    "Using the same key twice completely destroys security. Suppose I have two messages $m_0$ and $m_1$. They are the same length and encrypted with the same key, $k$.\n",
    "\n",
    "Then by commutativity of XOR and the property that $\\forall A: A \\oplus A = 0$:\n",
    "\n",
    "$$(m_0 \\oplus  k) \\oplus  (m_1 \\oplus  k) \\\\ = (m_0 \\oplus  m_1) \\oplus  (k \\oplus  k) \\\\ = (m_0 \\oplus  m_1)  $$\n",
    "\n",
    "The key cancels out and we're left with the logical XOR of the two plain-texts. If we know one of them, we can trivially compute the other.\n",
    "\n",
    "Even if you don't know either of them, you can recover both texts by looking at where the zeros are. Everywhere you have a matching letter in the same position, they \n",
    "will cancel each other out and we'll end up with a zero. \n",
    "\n",
    "\"e\" is the most common English letter. So \"e\" is the mostly likely to overlap between messages. Solve by filling in the letters like a Sudoku puzzle. \n",
    "\n",
    "Even though this full plain-text recovery attack exists, let's show there's a problem using our semantic security framework!"
   ]
  },
  {
   "cell_type": "code",
   "execution_count": 22,
   "metadata": {},
   "outputs": [
    {
     "data": {
      "text/plain": [
       "{'Trials': 200, 'Wins': 200}"
      ]
     },
     "execution_count": 22,
     "metadata": {},
     "output_type": "execute_result"
    }
   ],
   "source": [
    "class OTP_ReusedKey:\n",
    "    def __init__(self):\n",
    "        self.key = get_random_bytes(100)\n",
    "\n",
    "    def encrypt(self, data):\n",
    "        return encrypt_decrypt(data, self.key)         \n"
   ]
  },
  {
   "cell_type": "markdown",
   "metadata": {},
   "source": [
    "In the above snippet, we fix the key at the start of the game and just repeatedly encrypt with the same key.\n",
    "\n",
    "The strategy below is the same as what we saw with RC4. On the first trial, send the same message twice to get the encryption.\n",
    "\n",
    "On all other attempts, send the pair. Just examine which one comes back."
   ]
  },
  {
   "cell_type": "code",
   "execution_count": null,
   "metadata": {},
   "outputs": [],
   "source": [
    "class OTP_ReusedKey_Strategy:\n",
    "    def getMessages(self, trialNumber):\n",
    "        m0 = b'Kill the king at 2am'\n",
    "        m1 = b'Kill the king at 3am'\n",
    "\n",
    "        if trialNumber == 0:\n",
    "            return m0, m0\n",
    "        else:\n",
    "            return m0, m1 \n",
    "\n",
    "    def challenge(self, challenge, trialNumber):\n",
    "        if trialNumber == 0:\n",
    "            self.m0Encrypted = challenge\n",
    "            return 0\n",
    "        else:\n",
    "            if challenge == self.m0Encrypted:\n",
    "                return 0\n",
    "            else:\n",
    "                return 1"
   ]
  },
  {
   "cell_type": "code",
   "execution_count": null,
   "metadata": {},
   "outputs": [],
   "source": [
    "from  SemanticSecurityGame import SemanticSecurityGame\n",
    "game = SemanticSecurityGame(OTP_ReusedKey(), OTP_ReusedKey_Strategy())\n",
    "game.runGame(200)"
   ]
  }
 ],
 "metadata": {
  "kernelspec": {
   "display_name": "Python 3",
   "language": "python",
   "name": "python3"
  },
  "language_info": {
   "codemirror_mode": {
    "name": "ipython",
    "version": 3
   },
   "file_extension": ".py",
   "mimetype": "text/x-python",
   "name": "python",
   "nbconvert_exporter": "python",
   "pygments_lexer": "ipython3",
   "version": "3.11.8"
  }
 },
 "nbformat": 4,
 "nbformat_minor": 2
}
