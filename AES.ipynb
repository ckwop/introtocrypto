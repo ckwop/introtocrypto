{
 "cells": [
  {
   "cell_type": "markdown",
   "metadata": {},
   "source": [
    "# Some attacks from misuse of block ciphers\n",
    "\n",
    "It's important that you use the right mode of operation for a block cipher. It's also important that when you use a mode of operation, it is set-up correctly.\n",
    "\n",
    "## ECB - Electronic Code Book\n",
    "\n",
    "We're going to look at the Electronic Code Book (ECB) for AES to kick us off. That mode of operation is never secure regardless of which block-cipher you pick.\n",
    "\n",
    "We start by just demoing the general capability.\n",
    "\n",
    "First we need to set-up a key."
   ]
  },
  {
   "cell_type": "code",
   "execution_count": null,
   "metadata": {},
   "outputs": [],
   "source": [
    "from Crypto.Random import get_random_bytes\n",
    "\n",
    "aes_key = get_random_bytes(16)\n"
   ]
  },
  {
   "cell_type": "code",
   "execution_count": 24,
   "metadata": {},
   "outputs": [
    {
     "name": "stdout",
     "output_type": "stream",
     "text": [
      "Encrypted text: b'\\xf9\\xf8\\xeb\\xfa%\\xa7\\t\\x85n\\x95x$\\xa2sd\\x87'\n",
      "Recovered Plain Text: b'Super Secret Msg'\n"
     ]
    }
   ],
   "source": [
    "from Crypto.Cipher import AES\n",
    "\n",
    "cipher = AES.new(aes_key, AES.MODE_ECB)\n",
    "\n",
    "plaintext = b'Super Secret Msg'\n",
    "\n",
    "cipherText = cipher.encrypt(plaintext)\n",
    "\n",
    "print(\"Encrypted text:\", cipherText)\n",
    "\n",
    "plainText = cipher.decrypt(cipherText)\n",
    "\n",
    "print(\"Recovered Plain Text:\", plainText)\n",
    "\n"
   ]
  },
  {
   "cell_type": "markdown",
   "metadata": {},
   "source": [
    "So what's the problem here?\n",
    "\n",
    "The problem is the same plain-text encrypts to the same cipher text!\n",
    "\n",
    "Let's show this is insecure using the game!"
   ]
  },
  {
   "cell_type": "code",
   "execution_count": 25,
   "metadata": {},
   "outputs": [],
   "source": [
    "class AES_ECBGameStrategy:\n",
    "    def getMessages(self, trialNumber):\n",
    "            if trialNumber == 0:\n",
    "                m0 = b'Super Secret Msg'\n",
    "                m1 = b'Super Secret Msg'\n",
    "            else:\n",
    "                m0 = b'Super Secret Msg'\n",
    "                m1 = b'Super Urgent Msg'\n",
    "            return m0, m1 \n",
    "\n",
    "    def challenge(self, challenge, trialNumber):\n",
    "            if (trialNumber == 0):\n",
    "                self.savedMessage = challenge\n",
    "            if self.savedMessage == challenge:\n",
    "                return 0\n",
    "            else:\n",
    "                return 1"
   ]
  },
  {
   "cell_type": "markdown",
   "metadata": {},
   "source": [
    "Next we need the rules of the game. We're going to fix one key across all iterations of the game!"
   ]
  },
  {
   "cell_type": "code",
   "execution_count": 77,
   "metadata": {},
   "outputs": [],
   "source": [
    "class AESFixedKey:\n",
    "    from Crypto.Random import get_random_bytes\n",
    "\n",
    "    def __init__(self, mode, iv=get_random_bytes(16)):\n",
    "       self.key = get_random_bytes(16)\n",
    "       self.aes = AES.new(self.key, mode, iv=iv)\n",
    "\n",
    "    def encrypt(self, data):\n",
    "        return self.aes.encrypt(data)\n",
    "\n",
    "    def decrypt(self, data):\n",
    "        return self.aes.decrypt(data)\n"
   ]
  },
  {
   "cell_type": "markdown",
   "metadata": {},
   "source": [
    "And let's test it works how we want it to!"
   ]
  },
  {
   "cell_type": "code",
   "execution_count": 45,
   "metadata": {},
   "outputs": [
    {
     "data": {
      "text/plain": [
       "b'1Qx\\xcf\\r\\x9d\\xfe\\x0e\\x8a\\xfeSG?B\\xf2\\x12'"
      ]
     },
     "execution_count": 45,
     "metadata": {},
     "output_type": "execute_result"
    }
   ],
   "source": [
    "aesFixedKey = AESFixedKey(AES.MODE_ECB)\n",
    "aesFixedKey.encrypt(plaintext)"
   ]
  },
  {
   "cell_type": "markdown",
   "metadata": {},
   "source": [
    "Right, let's play the game!"
   ]
  },
  {
   "cell_type": "code",
   "execution_count": 46,
   "metadata": {},
   "outputs": [
    {
     "data": {
      "text/plain": [
       "{'Trials': 50, 'Wins': 50}"
      ]
     },
     "execution_count": 46,
     "metadata": {},
     "output_type": "execute_result"
    }
   ],
   "source": [
    "from SemanticSecurityGame import SemanticSecurityGame\n",
    "\n",
    "strategy = AES_ECBGameStrategy()\n",
    "game = SemanticSecurityGame(aesFixedKey, strategy)\n",
    "\n",
    "game.runGame(50)"
   ]
  },
  {
   "cell_type": "markdown",
   "metadata": {},
   "source": [
    "# Cipher Block Chaining Mode - CBC."
   ]
  },
  {
   "cell_type": "markdown",
   "metadata": {},
   "source": [
    "There is a security proof showing that if CBC is used *correctly* the strength of the scheme reduces to the underlying strength of the cipher.\n",
    "\n",
    "However, if you don't follow the conditions of the proof (i.e. that the IV is completely random) then terrible things happen. \n",
    "\n",
    "Let's explore!"
   ]
  },
  {
   "cell_type": "code",
   "execution_count": 92,
   "metadata": {},
   "outputs": [
    {
     "data": {
      "text/plain": [
       "b'xJu\\xa1\\xf3\\xb5\\x85\\xd9~\\xbc/I\\xd6c~\\xc2'"
      ]
     },
     "execution_count": 92,
     "metadata": {},
     "output_type": "execute_result"
    }
   ],
   "source": [
    "iv=b'0000000000000000'\n",
    "key=b'0000000000000000'\n",
    "\n",
    "aes = AES.new(key,AES.MODE_CBC, iv=iv)\n",
    "aes.encrypt(plaintext)"
   ]
  },
  {
   "cell_type": "markdown",
   "metadata": {},
   "source": [
    "So we learned with a fixed key and a fixed IV, it's the same value each time. How do we ensure that the IV is the same across multiple runs?\n",
    "\n",
    "Suppose the IV is simply a counter. It counts up for each encryption!"
   ]
  },
  {
   "cell_type": "code",
   "execution_count": 91,
   "metadata": {},
   "outputs": [
    {
     "data": {
      "text/plain": [
       "b'xJu\\xa1\\xf3\\xb5\\x85\\xd9~\\xbc/I\\xd6c~\\xc2'"
      ]
     },
     "execution_count": 91,
     "metadata": {},
     "output_type": "execute_result"
    }
   ],
   "source": [
    "iv=b'0000000000000001'\n",
    "key=b'0000000000000000'\n",
    "\n",
    "aes = AES.new(key,AES.MODE_CBC, iv=iv)\n",
    "aes.encrypt(b'Super Secret Msf')"
   ]
  },
  {
   "cell_type": "markdown",
   "metadata": {},
   "source": [
    "Ooops!"
   ]
  }
 ],
 "metadata": {
  "kernelspec": {
   "display_name": "Python 3",
   "language": "python",
   "name": "python3"
  },
  "language_info": {
   "codemirror_mode": {
    "name": "ipython",
    "version": 3
   },
   "file_extension": ".py",
   "mimetype": "text/x-python",
   "name": "python",
   "nbconvert_exporter": "python",
   "pygments_lexer": "ipython3",
   "version": "3.11.8"
  }
 },
 "nbformat": 4,
 "nbformat_minor": 2
}
