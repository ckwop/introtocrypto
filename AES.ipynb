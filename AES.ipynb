{
 "cells": [
  {
   "cell_type": "markdown",
   "metadata": {},
   "source": [
    "# Some attacks from misuse of block ciphers\n",
    "\n",
    "It's important that you use the right mode of operation for a block cipher. It's also important that when you use a mode of operation, it is set-up correctly.\n",
    "\n",
    "## ECB - Electronic Code Book\n",
    "\n",
    "We're going to look at the Electronic Code Book (ECB) for AES to kick us off. That mode of operation is never secure regardless of which block-cipher you pick.\n",
    "\n",
    "We start by just demoing the general capability.\n",
    "\n",
    "First we need to set-up a key."
   ]
  },
  {
   "cell_type": "code",
   "execution_count": 2,
   "metadata": {},
   "outputs": [],
   "source": [
    "from Crypto.Random import get_random_bytes\n",
    "\n",
    "aes_key = get_random_bytes(16)\n"
   ]
  },
  {
   "cell_type": "code",
   "execution_count": 21,
   "metadata": {},
   "outputs": [
    {
     "name": "stdout",
     "output_type": "stream",
     "text": [
      "Encrypted text: b'$\\xbb\\x99\\x99J\\xe3\\x84}m\\xc8\\x81*\\x87C1\\x8d'\n",
      "Recovered Plain Text: b'Super Secret Msg'\n"
     ]
    }
   ],
   "source": [
    "from Crypto.Cipher import AES\n",
    "\n",
    "cipher = AES.new(aes_key, AES.MODE_ECB)\n",
    "\n",
    "plaintext = b'Super Secret Msg'\n",
    "\n",
    "cipherText = cipher.encrypt(plaintext)\n",
    "\n",
    "print(\"Encrypted text:\", cipherText)\n",
    "\n",
    "plainText = cipher.decrypt(cipherText)\n",
    "\n",
    "print(\"Recovered Plain Text:\", plainText)\n",
    "\n"
   ]
  },
  {
   "cell_type": "markdown",
   "metadata": {},
   "source": [
    "So what's the problem here?\n",
    "\n",
    "The problem is the same plain-text encrypts to the same cipher text!\n",
    "\n",
    "Let's show this is insecure using the game!"
   ]
  },
  {
   "cell_type": "code",
   "execution_count": 4,
   "metadata": {},
   "outputs": [],
   "source": [
    "class AES_ECBGameStrategy:\n",
    "    def getMessages(self, trialNumber):\n",
    "            if trialNumber == 0:\n",
    "                m0 = b'Super Secret Msg'\n",
    "                m1 = b'Super Secret Msg'\n",
    "            else:\n",
    "                m0 = b'Super Secret Msg'\n",
    "                m1 = b'Super Urgent Msg'\n",
    "            return m0, m1 \n",
    "\n",
    "    def challenge(self, challenge, trialNumber):\n",
    "            if (trialNumber == 0):\n",
    "                self.savedMessage = challenge\n",
    "            if self.savedMessage == challenge:\n",
    "                return 0\n",
    "            else:\n",
    "                return 1"
   ]
  },
  {
   "cell_type": "markdown",
   "metadata": {},
   "source": [
    "Next we need the rules of the game. We're going to fix one key across all iterations of the game!"
   ]
  },
  {
   "cell_type": "code",
   "execution_count": 5,
   "metadata": {},
   "outputs": [],
   "source": [
    "class AESFixedKey:\n",
    "    from Crypto.Random import get_random_bytes\n",
    "\n",
    "    def __init__(self, mode, iv=get_random_bytes(16)):\n",
    "       self.key = get_random_bytes(16)\n",
    "       self.mode = mode\n",
    "       self.iv = iv\n",
    "\n",
    "    def encrypt(self, data):\n",
    "        aes = AES.new(self.key, self.mode)\n",
    "        if self.mode == AES.MODE_CBC:\n",
    "            aes = AES.new(self.key, self.mode, iv=self.iv)\n",
    "        return aes.encrypt(data)\n",
    "\n",
    "    def decrypt(self, data):\n",
    "        aes = AES.new(self.key, self.mode, iv=self.iv)\n",
    "        return aes.decrypt(data)\n"
   ]
  },
  {
   "cell_type": "markdown",
   "metadata": {},
   "source": [
    "And let's test it works how we want it to!"
   ]
  },
  {
   "cell_type": "code",
   "execution_count": 6,
   "metadata": {},
   "outputs": [
    {
     "data": {
      "text/plain": [
       "b'\\xcf\\x8f\\x16\"\\x1aG0\\xc8+?\\x08e\\x8d\\x02\\x03\\x0f'"
      ]
     },
     "execution_count": 6,
     "metadata": {},
     "output_type": "execute_result"
    }
   ],
   "source": [
    "aesFixedKey = AESFixedKey(AES.MODE_ECB)\n",
    "aesFixedKey.encrypt(plaintext)"
   ]
  },
  {
   "cell_type": "markdown",
   "metadata": {},
   "source": [
    "Right, let's play the game!"
   ]
  },
  {
   "cell_type": "code",
   "execution_count": 7,
   "metadata": {},
   "outputs": [
    {
     "data": {
      "text/plain": [
       "{'Trials': 50, 'Wins': 49}"
      ]
     },
     "execution_count": 7,
     "metadata": {},
     "output_type": "execute_result"
    }
   ],
   "source": [
    "from SemanticSecurityGame import SemanticSecurityGame\n",
    "\n",
    "strategy = AES_ECBGameStrategy()\n",
    "game = SemanticSecurityGame(aesFixedKey, strategy)\n",
    "\n",
    "game.runGame(50)"
   ]
  },
  {
   "cell_type": "markdown",
   "metadata": {},
   "source": [
    "# Cipher Block Chaining Mode - CBC."
   ]
  },
  {
   "cell_type": "markdown",
   "metadata": {},
   "source": [
    "There is a security proof showing that if CBC is used *correctly* the strength of the scheme reduces to the underlying strength of the cipher.\n",
    "\n",
    "However, if you don't follow the conditions of the proof (i.e. that the IV is completely random and never re-used) then terrible things happen. \n",
    "\n",
    "Let's explore!"
   ]
  },
  {
   "cell_type": "markdown",
   "metadata": {},
   "source": [
    "## Reusing the same IV\n",
    "\n",
    "Reusing the same IV between encryptions is bad, it basically behaves like our ECB example. Let's show why!"
   ]
  },
  {
   "cell_type": "code",
   "execution_count": 8,
   "metadata": {},
   "outputs": [],
   "source": [
    "iv=b'0000000000000000'\n",
    "aesFixedKey = AESFixedKey(AES.MODE_ECB, iv=iv)\n"
   ]
  },
  {
   "cell_type": "markdown",
   "metadata": {},
   "source": [
    "Notice how the frame below always encrypts to the same output!"
   ]
  },
  {
   "cell_type": "code",
   "execution_count": 9,
   "metadata": {},
   "outputs": [
    {
     "data": {
      "text/plain": [
       "b'\\xaa\\x88\\xebn\\xc9\\xf6\\xf2X\\x97\\xb0Z\\xe3\\xa4l9j'"
      ]
     },
     "execution_count": 9,
     "metadata": {},
     "output_type": "execute_result"
    }
   ],
   "source": [
    "\n",
    "aesFixedKey.encrypt(b'Super Secret Msg')\n"
   ]
  },
  {
   "cell_type": "markdown",
   "metadata": {},
   "source": [
    "## Attack: Repeated use of the same IV.\n",
    "\n",
    "Notice, literally the same strategy as ECB works! No code modifications."
   ]
  },
  {
   "cell_type": "code",
   "execution_count": 23,
   "metadata": {},
   "outputs": [
    {
     "data": {
      "text/plain": [
       "{'Trials': 50, 'Wins': 49}"
      ]
     },
     "execution_count": 23,
     "metadata": {},
     "output_type": "execute_result"
    }
   ],
   "source": [
    "from SemanticSecurityGame import SemanticSecurityGame\n",
    "\n",
    "strategy = AES_ECBGameStrategy()\n",
    "game = SemanticSecurityGame(aesFixedKey, strategy)\n",
    "\n",
    "game.runGame(50)"
   ]
  },
  {
   "cell_type": "markdown",
   "metadata": {},
   "source": [
    "## Attack: Predictable IVs\n",
    "\n",
    "What happens if the IV is predictable? Let's work through this slowly!"
   ]
  },
  {
   "cell_type": "code",
   "execution_count": 11,
   "metadata": {},
   "outputs": [
    {
     "data": {
      "text/plain": [
       "b'xJu\\xa1\\xf3\\xb5\\x85\\xd9~\\xbc/I\\xd6c~\\xc2'"
      ]
     },
     "execution_count": 11,
     "metadata": {},
     "output_type": "execute_result"
    }
   ],
   "source": [
    "iv=b'0000000000000000'\n",
    "key=b'0000000000000000'\n",
    "\n",
    "aes = AES.new(key,AES.MODE_CBC, iv=iv)\n",
    "aes.encrypt(plaintext)"
   ]
  },
  {
   "cell_type": "markdown",
   "metadata": {},
   "source": [
    "So we learned with a fixed key and a fixed IV, it's the same value each time. How do we ensure that the IV is the same across multiple runs?\n",
    "\n",
    "Suppose the IV is simply a counter. It counts up for each encryption!"
   ]
  },
  {
   "cell_type": "code",
   "execution_count": 12,
   "metadata": {},
   "outputs": [
    {
     "data": {
      "text/plain": [
       "b'xJu\\xa1\\xf3\\xb5\\x85\\xd9~\\xbc/I\\xd6c~\\xc2'"
      ]
     },
     "execution_count": 12,
     "metadata": {},
     "output_type": "execute_result"
    }
   ],
   "source": [
    "iv=b'0000000000000001'\n",
    "key=b'0000000000000000'\n",
    "\n",
    "aes = AES.new(key,AES.MODE_CBC, iv=iv)\n",
    "aes.encrypt(b'Super Secret Msf')"
   ]
  },
  {
   "cell_type": "markdown",
   "metadata": {},
   "source": [
    "Oops! It's the same problem with ECB. \n",
    "\n",
    "What happened is we cancelled out the increasing IV by decreasing the message by one \"Msg\" became \"Msf\" so the input block to CBC was the same in both cases. \n",
    "\n",
    "Let's build some attack code to demonstrate the concept."
   ]
  },
  {
   "cell_type": "code",
   "execution_count": 36,
   "metadata": {},
   "outputs": [],
   "source": [
    "class AES_CBC_GameStrategy:\n",
    "    def getMessages(self, trialNumber):\n",
    "            if trialNumber == 0:\n",
    "                m0 = self.getIvValue(trialNumber)\n",
    "                m1 = self.getIvValue(trialNumber)\n",
    "            else:\n",
    "                m0 = self.getIvValue(trialNumber)\n",
    "                m1 = b'Super Urgent Msg'\n",
    "            return m0, m1 \n",
    "\n",
    "    def getIvValue(self, trialNumber):\n",
    "         ivStr = ('0'*16 + str(trialNumber))[-16:]\n",
    "         byteArray = bytearray()\n",
    "         byteArray.extend(map(ord, ivStr))\n",
    "         return byteArray\n",
    "    \n",
    "    def challenge(self, challenge, trialNumber):\n",
    "            if (trialNumber == 0):\n",
    "                self.savedMessage = challenge\n",
    "            if self.savedMessage == challenge:\n",
    "                return 0\n",
    "            else:\n",
    "                return 1"
   ]
  },
  {
   "cell_type": "markdown",
   "metadata": {},
   "source": [
    "The idea here is that we know that the IV is Xor'ed with the plain-text.\n",
    "\n",
    "We exploit this by simply sending the IV as the message, using the property:\n",
    "\n",
    "$$ \\forall A: A \\oplus A = 0 $$\n",
    "\n",
    "Thus we end up on the first trial getting basically an ECB chunk back which we can then force to be produced on every subsequent iteration."
   ]
  },
  {
   "cell_type": "code",
   "execution_count": 38,
   "metadata": {},
   "outputs": [],
   "source": [
    "class AES_CBC_Challenge:\n",
    "    def __init__(self):\n",
    "        from Crypto.Random import get_random_bytes\n",
    "        self.key = get_random_bytes(16)\n",
    "        self.iv = 0 \n",
    "        \n",
    "    def getIvValue(self): \n",
    "         # This is nasty, forgive the transgression.\n",
    "         ivStr = ('0'*16 + str( self.iv))[-16:]\n",
    "         byteArray = bytearray()\n",
    "         byteArray.extend(map(ord, ivStr))\n",
    "         return byteArray\n",
    "\n",
    "    def encrypt(self, msg):\n",
    "      aes = AES.new(self.key, AES.MODE_CBC, iv=self.getIvValue())\n",
    "      self.iv = self.iv + 1\n",
    "      return aes.encrypt(msg)"
   ]
  },
  {
   "cell_type": "markdown",
   "metadata": {},
   "source": [
    "Let's see if it works! :)"
   ]
  },
  {
   "cell_type": "code",
   "execution_count": 42,
   "metadata": {},
   "outputs": [
    {
     "data": {
      "text/plain": [
       "{'Trials': 50, 'Wins': 50}"
      ]
     },
     "execution_count": 42,
     "metadata": {},
     "output_type": "execute_result"
    }
   ],
   "source": [
    "from SemanticSecurityGame import SemanticSecurityGame\n",
    "\n",
    "strategy = AES_CBC_GameStrategy()\n",
    "challenge = AES_CBC_Challenge()\n",
    "game = SemanticSecurityGame(challenge, strategy)\n",
    "\n",
    "game.runGame(50)"
   ]
  }
 ],
 "metadata": {
  "kernelspec": {
   "display_name": "Python 3",
   "language": "python",
   "name": "python3"
  },
  "language_info": {
   "codemirror_mode": {
    "name": "ipython",
    "version": 3
   },
   "file_extension": ".py",
   "mimetype": "text/x-python",
   "name": "python",
   "nbconvert_exporter": "python",
   "pygments_lexer": "ipython3",
   "version": "3.11.8"
  }
 },
 "nbformat": 4,
 "nbformat_minor": 2
}
