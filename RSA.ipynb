{
 "cells": [
  {
   "cell_type": "markdown",
   "metadata": {},
   "source": [
    "# RSA Implementation and common mistakes\n",
    "\n",
    "## How to set-up RSA for Dummies\n",
    "The first problem we have is generating primes of sufficient size. Let's start by making a little function to check if big numbers are prime"
   ]
  },
  {
   "cell_type": "code",
   "execution_count": 21,
   "metadata": {},
   "outputs": [],
   "source": [
    "from random import randint\n",
    "smallPrimes = [2, 3, 5, 7, 11, 13, 17, 19, 23, 29, 31, 37, 41, 43, 47, 53, 59, 61, 67, 71, 73, 79, 83, 89, 97, 101, 103, 107, 109, 113, \n",
    "            127, 131, 137, 139, 149, 151, 157, 163, 167, 173, 179, 181, 191, 193, 197, 199, 211, 223, 227, 229, 233, 239, 241, 251, \n",
    "            257, 263, 269, 271, 277, 281, 283, 293, 307, 311, 313, 317, 331, 337, 347, 349, 353, 359, 367, 373, 379, 383, 389, 397, \n",
    "            401, 409, 419, 421, 431, 433, 439, 443, 449, 457, 461, 463, 467, 479, 487, 491, 499, 503, 509, 521, 523, 541]\n",
    "\n",
    "def isPrime(n):\n",
    "    # Quickly test small factors.\n",
    "    if n in smallPrimes:\n",
    "            return True\n",
    "\n",
    "    # Use Fermat's little theorem to do the harder work on larger primes. (https://en.wikipedia.org/wiki/Fermat%27s_little_theorem)\n",
    "    for i in range(0, 50): \n",
    "        base = randint(2, n-1)\n",
    "        if pow(base, n-1, n) != 1: \n",
    "            return False\n",
    "    \n",
    "    return True"
   ]
  },
  {
   "cell_type": "markdown",
   "metadata": {},
   "source": [
    "And let's check we've not been completely stupid by checking a few cases:"
   ]
  },
  {
   "cell_type": "code",
   "execution_count": 22,
   "metadata": {},
   "outputs": [
    {
     "name": "stdout",
     "output_type": "stream",
     "text": [
      "2 True\n",
      "3 True\n",
      "10 False\n",
      "65537 True\n",
      "65539 True\n",
      "65541 False\n"
     ]
    }
   ],
   "source": [
    "print(2, isPrime(2))\n",
    "print(3, isPrime(3))\n",
    "print(10, isPrime(10))\n",
    "\n",
    "print(65537, isPrime(65537))\n",
    "print(65539, isPrime(65539))\n",
    "print(65541, isPrime(65541))\n",
    "\n"
   ]
  },
  {
   "cell_type": "markdown",
   "metadata": {},
   "source": [
    "And now for something a bit bigger. \n",
    "\n",
    "This prime was nicked from the [RFC 3526](https://www.rfc-editor.org/rfc/rfc3526.txt). "
   ]
  },
  {
   "cell_type": "code",
   "execution_count": 23,
   "metadata": {},
   "outputs": [
    {
     "data": {
      "text/plain": [
       "True"
      ]
     },
     "execution_count": 23,
     "metadata": {},
     "output_type": "execute_result"
    }
   ],
   "source": [
    "bigPrime = \"\"\"FFFFFFFF FFFFFFFF C90FDAA2 2168C234 C4C6628B 80DC1CD1\n",
    "      29024E08 8A67CC74 020BBEA6 3B139B22 514A0879 8E3404DD\n",
    "      EF9519B3 CD3A431B 302B0A6D F25F1437 4FE1356D 6D51C245\n",
    "      E485B576 625E7EC6 F44C42E9 A637ED6B 0BFF5CB6 F406B7ED\n",
    "      EE386BFB 5A899FA5 AE9F2411 7C4B1FE6 49286651 ECE45B3D\n",
    "      C2007CB8 A163BF05 98DA4836 1C55D39A 69163FA8 FD24CF5F\n",
    "      83655D23 DCA3AD96 1C62F356 208552BB 9ED52907 7096966D\n",
    "      670C354E 4ABC9804 F1746C08 CA18217C 32905E46 2E36CE3B\n",
    "      E39E772C 180E8603 9B2783A2 EC07A28F B5C55DF0 6F4C52C9\n",
    "      DE2BCBF6 95581718 3995497C EA956AE5 15D22618 98FA0510\n",
    "      15728E5A 8AACAA68 FFFFFFFF FFFFFFFF\"\"\"\n",
    "\n",
    "bigPrime = bigPrime.replace(\" \", \"\")\n",
    "bigPrime = bigPrime.replace(\"\\n\", \"\")\n",
    "\n",
    "bigDaddy = int(bigPrime, 16)\n",
    "\n",
    "isPrime(bigDaddy)"
   ]
  },
  {
   "cell_type": "markdown",
   "metadata": {},
   "source": [
    "Alright, so how do we generate a large random prime. The code below implements the process:"
   ]
  },
  {
   "cell_type": "code",
   "execution_count": 24,
   "metadata": {},
   "outputs": [],
   "source": [
    "def bigPrime(bits):\n",
    "    from random import getrandbits\n",
    "    p = getrandbits(bits)\n",
    "    while not isPrime(p):\n",
    "        p = getrandbits(bits)\n",
    "    return p"
   ]
  },
  {
   "cell_type": "markdown",
   "metadata": {},
   "source": [
    "Does this prove that the numbers are prime? Of course not, they're sort of \"industrial strength\" primes.\n",
    "\n",
    "Alrighty then, let's generate some primes:"
   ]
  },
  {
   "cell_type": "code",
   "execution_count": 25,
   "metadata": {},
   "outputs": [
    {
     "data": {
      "text/plain": [
       "(154933371817119426610152223125278048863282712520104689292970954205868662770683601612898119720528567669187238603901901257438253158561193242785718441496891020893566166001004277450782112380915453751003783105310600856039822274815678293543894337638723938631113893113200934652247939811675948458681828401299728237797,\n",
       " 43676229164615742854226774478725647612517491379615006993947215446666128738942122506904021685570699320326733873812999868363374506352373316357445199700180962345816865315946221935965338414012719312959138139876956436247232725749543268214345756672967627831643473294566409226419399077385634277856398840610540492559)"
      ]
     },
     "execution_count": 25,
     "metadata": {},
     "output_type": "execute_result"
    }
   ],
   "source": [
    "p = bigPrime(1024)\n",
    "q = bigPrime(1024)\n",
    "\n",
    "p,q"
   ]
  },
  {
   "cell_type": "markdown",
   "metadata": {},
   "source": [
    "And multiply to get a modulus:"
   ]
  },
  {
   "cell_type": "code",
   "execution_count": 26,
   "metadata": {},
   "outputs": [
    {
     "data": {
      "text/plain": [
       "6766905452731126291558939402574517219404683039566540168997515764362789655562919407677294320497211011793152647734430889239104853154812949233517055137345974034662919993397384038693672799921251298683990543375126598899600763922299536389792370941148601450576098032716899726680458913643741844276119247513644675168744410417626890414848616292478087783331901343468725396255168793766795057968242864856416373311440574788046298877858267754411732384490010666426301667126824498073440479342878101830247027466408016026787451751350289910040528306926568790704463672444281671780665003661194872106709915857572294925846549577421461052523"
      ]
     },
     "execution_count": 26,
     "metadata": {},
     "output_type": "execute_result"
    }
   ],
   "source": [
    "n = p * q\n",
    "n"
   ]
  },
  {
   "cell_type": "markdown",
   "metadata": {},
   "source": [
    "# Explanation of the role of Extended GCD / LCM\n",
    "\n",
    "The extended Euclian algorithm is the standard GCD algorithm extended to show more of its internal state. It's used to find solutions to the equations of the form:\n",
    "\n",
    "$$(ax + by) = gcd(x, y)$$\n",
    "\n",
    "In our case, we're looking for a solution such that:\n",
    "\n",
    "$$e \\times d \\equiv {1 \\mod {\\text{lcm} (p-1,q-1)}}$$\n",
    "\n",
    "So, if we substitute:\n",
    "\n",
    "$$ex + (b \\times {\\text{lcm} (p-1,q-1)}) = gcd(e, {\\text{lcm} (p-1,q-1)})$$\n",
    "\n",
    "But by requirement for the scheme to work:\n",
    "\n",
    "$$gcd(e, {\\text{lcm} (p-1,q-1)}) = 1$$\n",
    "\n",
    "So we can rewrite the right hand side to 1:\n",
    "\n",
    "$$(e \\times x) + (b \\times {\\text{lcm} (p-1,q-1)}) = 1$$\n",
    "\n",
    "Now we take both sides  $\\mod {\\text{lcm} (p-1,q-1)}$:\n",
    "\n",
    "$$((e \\times x) + (b \\times {\\text{lcm} (p-1,q-1)})) \\mod {\\text{lcm} (p-1,q-1)} \\equiv 1 \\mod {\\text{lcm} (p-1,q-1)}$$\n",
    "\n",
    "But notice that we just have $b$ multiplied by the thing in the mod, so we can simplify:\n",
    "\n",
    "$$ex \\equiv 1 \\mod {\\text{lcm} (p-1,q-1)}$$\n",
    "\n",
    "This looks like our target equation above, so $x=d$ which is our encryption exponent."
   ]
  },
  {
   "cell_type": "code",
   "execution_count": 27,
   "metadata": {},
   "outputs": [],
   "source": [
    "def gcdExtended(a, b):\n",
    "\t\tif a == 0 :   \n",
    "\t\t\treturn b,0,1\n",
    "\t\t     \n",
    "\t\tgcd,x1,y1 = gcdExtended(b % a, a)  \n",
    "     \n",
    "\t\tx = y1 - (b//a) * x1  \n",
    "\t\ty = x1  \n",
    "\t     \n",
    "\t\treturn gcd,x,y \n",
    "\n",
    "def lcm(a, b):\n",
    "\tgcd, _, _ = gcdExtended(a, b)\n",
    "\treturn (a * b) // gcd\n"
   ]
  },
  {
   "cell_type": "markdown",
   "metadata": {},
   "source": [
    "Right, now we get to the business end of setting up RSA. First we need to compute phi(n), which is the number of numbers relatively prime to \"n\""
   ]
  },
  {
   "cell_type": "code",
   "execution_count": 28,
   "metadata": {},
   "outputs": [],
   "source": [
    "phi_n = lcm(p-1, q-1)"
   ]
  },
  {
   "cell_type": "markdown",
   "metadata": {},
   "source": [
    "Next we need to define what we want for the encryption exponent. It needs to be big enough so that when we do m^e it is bigger than p and thus \"loops around\""
   ]
  },
  {
   "cell_type": "code",
   "execution_count": 29,
   "metadata": {},
   "outputs": [],
   "source": [
    "e = 65537"
   ]
  },
  {
   "cell_type": "markdown",
   "metadata": {},
   "source": [
    "Now the final step, let's compute d from phi_n and e."
   ]
  },
  {
   "cell_type": "code",
   "execution_count": 30,
   "metadata": {},
   "outputs": [
    {
     "data": {
      "text/plain": [
       "295304173135954059445177025060090013999685574456571171755388484155173084134305041517876340946671704437621749126760033923185984711274013683993145516163533358852799963091330368351677742462651307112565618720003388511113694322562471185357983747984878773038858055351485927312908929200621048791212613453301551352396981710111923707246271856559498916465636957126010594044725830980465757695220181309896954441754675073680553786478020485494070517386951342704575655799915958808389219850682102369476918218417571003763952534409957967053342900288286816222686412766211570581644198583163750716880567772860226083913236826213619940513"
      ]
     },
     "execution_count": 30,
     "metadata": {},
     "output_type": "execute_result"
    }
   ],
   "source": [
    "_, d, _ = gcdExtended(e, phi_n)\n",
    "\n",
    "if d < 0:\n",
    "\td = phi_n + d # d is negative. Lost a good 45 minutes there.\n",
    "\n",
    "d"
   ]
  },
  {
   "cell_type": "markdown",
   "metadata": {},
   "source": [
    "Alright, let's check everything works!!!"
   ]
  },
  {
   "cell_type": "code",
   "execution_count": 31,
   "metadata": {},
   "outputs": [
    {
     "data": {
      "text/plain": [
       "(420, 65537, 420)"
      ]
     },
     "execution_count": 31,
     "metadata": {},
     "output_type": "execute_result"
    }
   ],
   "source": [
    "m = 420\n",
    "\n",
    "cipherText = pow(m, e, n)\n",
    "plainText = pow(cipherText, d, n)\n",
    "\n",
    "m, e, plainText"
   ]
  },
  {
   "cell_type": "markdown",
   "metadata": {},
   "source": [
    "# Now let's put the whole thing in to one neat package"
   ]
  },
  {
   "cell_type": "code",
   "execution_count": 32,
   "metadata": {},
   "outputs": [],
   "source": [
    "class RSAFixedKey:\n",
    "    def __init__(self, e=65537):\n",
    "        self.p = bigPrime(1024)\n",
    "        self.q = bigPrime(1024)\n",
    "        self.n = self.p * self.q\n",
    "        self.e = e\n",
    "        phi_n = lcm((self.p-1),(self.q-1))\n",
    "        _, self.d, _ = gcdExtended(e, phi_n)\n",
    "        if self.d < 0:\n",
    "            self.d = phi_n + self.d\n",
    "\n",
    "    def encrypt(self, data):\n",
    "        return pow(data, self.e, self.n)\n",
    "\n",
    "    def decrypt(self, data):\n",
    "        return pow(data, self.d, self.n)"
   ]
  },
  {
   "cell_type": "markdown",
   "metadata": {},
   "source": [
    "And let's test it out!"
   ]
  },
  {
   "cell_type": "code",
   "execution_count": 33,
   "metadata": {},
   "outputs": [
    {
     "data": {
      "text/plain": [
       "(69,\n",
       " 798738554215779836127140703188084246354852797625464895619267944830104714044857918349370480956428122396474160795489106197107180703678480685212305954560461513197439662064764088963500576085624676560312705529613695120508366004062940181682694063601773722272223593171930265174627259065824590220214695913577940476425152520738603547896437336835588727386042905543981088154159217150561745559141365331779564765124996437074204015444530548052433431047059577958302493018418370035430366503574206554162229075558571463413469594678223305525981474706233612219168295667725568871243568376736239078866640865079831037703176156488239961627,\n",
       " 69)"
      ]
     },
     "execution_count": 33,
     "metadata": {},
     "output_type": "execute_result"
    }
   ],
   "source": [
    "rsa = RSAFixedKey()\n",
    "\n",
    "plainTextBefore = 69\n",
    "cipherText=rsa.encrypt(69)\n",
    "plainTextAfter=rsa.decrypt(cipherText)\n",
    "\n",
    "plainTextBefore, cipherText, plainTextAfter\n"
   ]
  },
  {
   "cell_type": "markdown",
   "metadata": {},
   "source": [
    "# Attack: Not picking a big enough exponent for $e$"
   ]
  },
  {
   "cell_type": "code",
   "execution_count": 43,
   "metadata": {},
   "outputs": [],
   "source": [
    "rsa = RSAFixedKey(e=3)"
   ]
  },
  {
   "cell_type": "code",
   "execution_count": 44,
   "metadata": {},
   "outputs": [
    {
     "data": {
      "text/plain": [
       "{'Trials': 50, 'Wins': 50}"
      ]
     },
     "execution_count": 44,
     "metadata": {},
     "output_type": "execute_result"
    }
   ],
   "source": [
    "from SemanticSecurityGame import SemanticSecurityGame\n",
    "\n",
    "class RSAGameStrategyLowExponent:\n",
    "    def getMessages(self, trialNumber):\n",
    "           m0 = 3\n",
    "           m1 = 2\n",
    "           \n",
    "           return m0, m1\n",
    "\n",
    "    def challenge(self, challenge, trialNumber):\n",
    "           result = challenge ** (1/3)\n",
    "\n",
    "           if result == 3:\n",
    "                return 0 \n",
    "           else:\n",
    "                return 1\n",
    "\n",
    "strategy = RSAGameStrategyLowExponent()\n",
    "game = SemanticSecurityGame(rsa, strategy)\n",
    "\n",
    "game.runGame(50)"
   ]
  },
  {
   "cell_type": "markdown",
   "metadata": {},
   "source": [
    "# Attack: The cipher-text is the same each time!"
   ]
  },
  {
   "cell_type": "code",
   "execution_count": 45,
   "metadata": {},
   "outputs": [],
   "source": [
    "rsa = RSAFixedKey()"
   ]
  },
  {
   "cell_type": "code",
   "execution_count": 37,
   "metadata": {},
   "outputs": [
    {
     "data": {
      "text/plain": [
       "{'Trials': 50, 'Wins': 49}"
      ]
     },
     "execution_count": 37,
     "metadata": {},
     "output_type": "execute_result"
    }
   ],
   "source": [
    "from SemanticSecurityGame import SemanticSecurityGame\n",
    "\n",
    "class RSAGameStrategy:\n",
    "    def getMessages(self, trialNumber):\n",
    "            if trialNumber == 0:\n",
    "                m0 = 69\n",
    "                m1 = 69\n",
    "            else:\n",
    "                m0 = 69\n",
    "                m1 = 420\n",
    "            return m0, m1 \n",
    "\n",
    "    def challenge(self, challenge, trialNumber):\n",
    "            if (trialNumber == 0):\n",
    "                self.savedMessage = challenge\n",
    "            if self.savedMessage == challenge:\n",
    "                return 0\n",
    "            else:\n",
    "                return 1\n",
    "\n",
    "strategy = RSAGameStrategy()\n",
    "            \n",
    "game = SemanticSecurityGame(rsa, strategy)\n",
    "\n",
    "game.runGame(50)"
   ]
  },
  {
   "cell_type": "markdown",
   "metadata": {},
   "source": [
    "# Attack: Algebraic properties of RSA"
   ]
  },
  {
   "cell_type": "code",
   "execution_count": 38,
   "metadata": {},
   "outputs": [
    {
     "data": {
      "text/plain": [
       "28980"
      ]
     },
     "execution_count": 38,
     "metadata": {},
     "output_type": "execute_result"
    }
   ],
   "source": [
    "m_0 = 69\n",
    "m_1 = 420\n",
    "\n",
    "m_2 = 420*69\n",
    "m_2"
   ]
  },
  {
   "cell_type": "markdown",
   "metadata": {},
   "source": [
    "And now we find the cipher-text for $c_2$ from the cipher-texts computed from $m_0$ and $m_1$."
   ]
  },
  {
   "cell_type": "code",
   "execution_count": 39,
   "metadata": {},
   "outputs": [],
   "source": [
    "c_0 = rsa.encrypt(m_0)\n",
    "c_1 = rsa.encrypt(m_1)\n",
    "\n",
    "c_2 = c_0*c_1 % rsa.n\n",
    "\n"
   ]
  },
  {
   "cell_type": "markdown",
   "metadata": {},
   "source": [
    "The algebra around what is happening: \n",
    "\n",
    "$$c_2 = m_0^{e}m_1^{e} \\mod n$$\n",
    "$$c_2 = (m_0 \\times m_1)^{e} \\mod n$$\n",
    "\n",
    "And now we decrypt:"
   ]
  },
  {
   "cell_type": "code",
   "execution_count": 40,
   "metadata": {},
   "outputs": [
    {
     "data": {
      "text/plain": [
       "28980"
      ]
     },
     "execution_count": 40,
     "metadata": {},
     "output_type": "execute_result"
    }
   ],
   "source": [
    "rsa.decrypt(c_2)"
   ]
  },
  {
   "cell_type": "markdown",
   "metadata": {},
   "source": [
    "Why do we get the same answer as $m_2$?\n",
    "\n",
    "Because:\n",
    "\n",
    "$$ m_2 = m_0 \\times m_{1} $$\n",
    "\n",
    "But running the decryption operation on $c_2$ give us:\n",
    "\n",
    "$$c_2^{d} \\mod n \\equiv (m_0 \\times m_1)^{ed} \\mod n \\equiv (m_0 \\times m_1) \\mod n$$"
   ]
  },
  {
   "cell_type": "markdown",
   "metadata": {},
   "source": [
    "# How to use RSA properly"
   ]
  },
  {
   "cell_type": "markdown",
   "metadata": {},
   "source": [
    "https://en.wikipedia.org/wiki/Optimal_asymmetric_encryption_padding"
   ]
  }
 ],
 "metadata": {
  "kernelspec": {
   "display_name": "Python 3",
   "language": "python",
   "name": "python3"
  },
  "language_info": {
   "codemirror_mode": {
    "name": "ipython",
    "version": 3
   },
   "file_extension": ".py",
   "mimetype": "text/x-python",
   "name": "python",
   "nbconvert_exporter": "python",
   "pygments_lexer": "ipython3",
   "version": "3.11.8"
  }
 },
 "nbformat": 4,
 "nbformat_minor": 2
}
