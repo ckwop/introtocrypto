{
 "cells": [
  {
   "cell_type": "markdown",
   "metadata": {},
   "source": [
    "# RSA Implementation and common mistakes\n",
    "\n",
    "## How to set-up RSA for Dummies\n",
    "The first problem we have is generating primes of sufficient size. Let's start by making a little function to check if big numbers are prime"
   ]
  },
  {
   "cell_type": "code",
   "execution_count": 13,
   "metadata": {},
   "outputs": [],
   "source": [
    "from random import randint\n",
    "smallPrimes = [2, 3, 5, 7, 11, 13, 17, 19, 23, 29, 31, 37, 41, 43, 47, 53, 59, 61, 67, 71, 73, 79, 83, 89, 97, 101, 103, 107, 109, 113, \n",
    "            127, 131, 137, 139, 149, 151, 157, 163, 167, 173, 179, 181, 191, 193, 197, 199, 211, 223, 227, 229, 233, 239, 241, 251, \n",
    "            257, 263, 269, 271, 277, 281, 283, 293, 307, 311, 313, 317, 331, 337, 347, 349, 353, 359, 367, 373, 379, 383, 389, 397, \n",
    "            401, 409, 419, 421, 431, 433, 439, 443, 449, 457, 461, 463, 467, 479, 487, 491, 499, 503, 509, 521, 523, 541]\n",
    "\n",
    "def isPrime(n):\n",
    "    # Quickly test small factors.\n",
    "    if n in smallPrimes:\n",
    "            return True\n",
    "\n",
    "    # Use Fermat's little theorem to do the harder work on larger primes. (https://en.wikipedia.org/wiki/Fermat%27s_little_theorem)\n",
    "    for i in range(0, 50): \n",
    "        base = randint(2, n-1)\n",
    "        if pow(base, n-1, n) != 1: \n",
    "            return False\n",
    "    \n",
    "    return True"
   ]
  },
  {
   "cell_type": "markdown",
   "metadata": {},
   "source": [
    "And let's check we've not been completely stupid by checking a few cases:"
   ]
  },
  {
   "cell_type": "code",
   "execution_count": 2,
   "metadata": {},
   "outputs": [
    {
     "name": "stdout",
     "output_type": "stream",
     "text": [
      "2 True\n",
      "3 True\n",
      "10 False\n",
      "65537 True\n",
      "65539 True\n",
      "65541 False\n"
     ]
    }
   ],
   "source": [
    "print(2, isPrime(2))\n",
    "print(3, isPrime(3))\n",
    "print(10, isPrime(10))\n",
    "\n",
    "print(65537, isPrime(65537))\n",
    "print(65539, isPrime(65539))\n",
    "print(65541, isPrime(65541))\n",
    "\n"
   ]
  },
  {
   "cell_type": "markdown",
   "metadata": {},
   "source": [
    "And now for something a bit bigger. \n",
    "\n",
    "This prime was nicked from the [RFC 3526](https://www.rfc-editor.org/rfc/rfc3526.txt). "
   ]
  },
  {
   "cell_type": "code",
   "execution_count": 3,
   "metadata": {},
   "outputs": [
    {
     "data": {
      "text/plain": [
       "True"
      ]
     },
     "execution_count": 3,
     "metadata": {},
     "output_type": "execute_result"
    }
   ],
   "source": [
    "bigPrime = \"\"\"FFFFFFFF FFFFFFFF C90FDAA2 2168C234 C4C6628B 80DC1CD1\n",
    "      29024E08 8A67CC74 020BBEA6 3B139B22 514A0879 8E3404DD\n",
    "      EF9519B3 CD3A431B 302B0A6D F25F1437 4FE1356D 6D51C245\n",
    "      E485B576 625E7EC6 F44C42E9 A637ED6B 0BFF5CB6 F406B7ED\n",
    "      EE386BFB 5A899FA5 AE9F2411 7C4B1FE6 49286651 ECE45B3D\n",
    "      C2007CB8 A163BF05 98DA4836 1C55D39A 69163FA8 FD24CF5F\n",
    "      83655D23 DCA3AD96 1C62F356 208552BB 9ED52907 7096966D\n",
    "      670C354E 4ABC9804 F1746C08 CA18217C 32905E46 2E36CE3B\n",
    "      E39E772C 180E8603 9B2783A2 EC07A28F B5C55DF0 6F4C52C9\n",
    "      DE2BCBF6 95581718 3995497C EA956AE5 15D22618 98FA0510\n",
    "      15728E5A 8AACAA68 FFFFFFFF FFFFFFFF\"\"\"\n",
    "\n",
    "bigPrime = bigPrime.replace(\" \", \"\")\n",
    "bigPrime = bigPrime.replace(\"\\n\", \"\")\n",
    "\n",
    "bigDaddy = int(bigPrime, 16)\n",
    "\n",
    "isPrime(bigDaddy)"
   ]
  },
  {
   "cell_type": "markdown",
   "metadata": {},
   "source": [
    "Alright, so how do we generate a large random prime. The code below implements the process:"
   ]
  },
  {
   "cell_type": "code",
   "execution_count": 10,
   "metadata": {},
   "outputs": [],
   "source": [
    "def bigPrime(bits):\n",
    "    from random import getrandbits\n",
    "    p = getrandbits(bits)\n",
    "    while not isPrime(p):\n",
    "        p = getrandbits(bits)\n",
    "    return p"
   ]
  },
  {
   "cell_type": "markdown",
   "metadata": {},
   "source": [
    "Does this prove that the numbers are prime? Of course not, they're sort of \"industrial strength\" primes.\n",
    "\n",
    "Alrighty then, let's generate some primes:"
   ]
  },
  {
   "cell_type": "code",
   "execution_count": 5,
   "metadata": {},
   "outputs": [
    {
     "data": {
      "text/plain": [
       "(51402346371786911924859657627877264174318641051044733116035120148279170128536109769281435040734816214937867077513413198789270012902272337871859111430009340709709229044577573001052653645222168901691268112706295236194871941197010119846240088444006712177103461957976000784684915575356592878960100191991971011731,\n",
       " 70392417262343667923260905711576696724552943748866557066696783979420889679515640637463040136932257543510808912988714008376993095009746439712228561982675169700863911791457864449236150669975379255169655022063651499610609921391139830122142703303465399418302814136335620488946000385714097643057012743544427069739)"
      ]
     },
     "execution_count": 5,
     "metadata": {},
     "output_type": "execute_result"
    }
   ],
   "source": [
    "p = bigPrime(1024)\n",
    "q = bigPrime(1024)\n",
    "\n",
    "p,q"
   ]
  },
  {
   "cell_type": "markdown",
   "metadata": {},
   "source": [
    "And multiply to get a modulus:"
   ]
  },
  {
   "cell_type": "code",
   "execution_count": 6,
   "metadata": {},
   "outputs": [
    {
     "data": {
      "text/plain": [
       "3618335414066341426393494370108640853068300663472767604615808119735503157334339693929725415792829564142944905879628043058284505011721265149747369245148625205843094386162783190831059205291140679420675911164936767963521064572219838890694607630972266404388807658077187034479571819812969748320474906296476473030866660410997533882555186088697356153394732831523180206640073058904114007280170425987553084867042862645477823854381685416391167119233925330904135116579564142569472627940460659936731778245280274474582470479680539419706729329680112979071052708128726773496625767260458095129452891443762604412309579464739524108209"
      ]
     },
     "execution_count": 6,
     "metadata": {},
     "output_type": "execute_result"
    }
   ],
   "source": [
    "n = p * q\n",
    "n"
   ]
  },
  {
   "cell_type": "markdown",
   "metadata": {},
   "source": [
    "# Explanation of the role of Extended GCD / LCM\n",
    "\n",
    "The extended Euclian algorithm is the standard GCD algorithm extended to show more of its internal state. It's used to find solutions to the equations of the form:\n",
    "\n",
    "$$(ax + by) = gcd(x, y)$$\n",
    "\n",
    "In our case, we're looking for a solution such that:\n",
    "\n",
    "$$e \\times d \\equiv {1 \\mod {\\text{lcm} (p-1,q-1)}}$$\n",
    "\n",
    "So, if we substitute:\n",
    "\n",
    "$$ex + (b \\times {\\text{lcm} (p-1,q-1)}) = gcd(e, {\\text{lcm} (p-1,q-1)})$$\n",
    "\n",
    "But by requirement for the scheme to work:\n",
    "\n",
    "$$gcd(e, {\\text{lcm} (p-1,q-1)}) = 1$$\n",
    "\n",
    "So we can rewrite the right hand side to 1:\n",
    "\n",
    "$$(e \\times x) + (b \\times {\\text{lcm} (p-1,q-1)}) = 1$$\n",
    "\n",
    "Now we take both sides  $\\mod {\\text{lcm} (p-1,q-1)}$:\n",
    "\n",
    "$$((e \\times x) + (b \\times {\\text{lcm} (p-1,q-1)})) \\mod {\\text{lcm} (p-1,q-1)} \\equiv 1 \\mod {\\text{lcm} (p-1,q-1)}$$\n",
    "\n",
    "But notice that we just have $b$ multiplied by the thing in the mod, so we can simplify:\n",
    "\n",
    "$$ex \\equiv 1 \\mod {\\text{lcm} (p-1,q-1)}$$\n",
    "\n",
    "This looks like our target equation above, so $x=d$ which is our encryption exponent."
   ]
  },
  {
   "cell_type": "code",
   "execution_count": 15,
   "metadata": {},
   "outputs": [],
   "source": [
    "def gcdExtended(a, b):\n",
    "\t\tif a == 0 :   \n",
    "\t\t\treturn b,0,1\n",
    "\t\t     \n",
    "\t\tgcd,x1,y1 = gcdExtended(b % a, a)  \n",
    "     \n",
    "\t\tx = y1 - (b//a) * x1  \n",
    "\t\ty = x1  \n",
    "\t     \n",
    "\t\treturn gcd,x,y \n",
    "\n",
    "def lcm(a, b):\n",
    "\tgcd, _, _ = gcdExtended(a, b)\n",
    "\treturn (a * b) // gcd\n"
   ]
  },
  {
   "cell_type": "markdown",
   "metadata": {},
   "source": [
    "Right, now we get to the business end of setting up RSA. First we need to compute phi(n), which is the number of numbers relatively prime to \"n\""
   ]
  },
  {
   "cell_type": "code",
   "execution_count": 8,
   "metadata": {},
   "outputs": [],
   "source": [
    "phi_n = lcm(p-1, q-1)"
   ]
  },
  {
   "cell_type": "markdown",
   "metadata": {},
   "source": [
    "Next we need to define what we want for the encryption exponent. It needs to be big enough so that when we do m^e it is bigger than p and thus \"loops around\""
   ]
  },
  {
   "cell_type": "code",
   "execution_count": 9,
   "metadata": {},
   "outputs": [],
   "source": [
    "e = 65537"
   ]
  },
  {
   "cell_type": "markdown",
   "metadata": {},
   "source": [
    "Now the final step, let's compute d from phi_n and e."
   ]
  },
  {
   "cell_type": "code",
   "execution_count": 10,
   "metadata": {},
   "outputs": [
    {
     "data": {
      "text/plain": [
       "580622005615586304082688916844645338225624974097248279810521477809457542367007696281672297102175749749138350896182436102086592260185340875342450961542419045382744130980681285783219160664117688559554728165251041706034290180718524431908537790120387561862076319272605359538953828265912329801673472268594760648608089774943882552343239003882179202700500859074496201533845434704154252995873110635909085612681698640927140905297608586101190213697099810305480551994514391131712871448703600291113074070154492749444110237770301477947532981181204955911290235677914226343655870406774484524844771734496994254043681039021692705803"
      ]
     },
     "execution_count": 10,
     "metadata": {},
     "output_type": "execute_result"
    }
   ],
   "source": [
    "_, d, _ = gcdExtended(e, phi_n)\n",
    "\n",
    "if d < 0:\n",
    "\td = phi_n + d # d is negative. Lost a good 45 minutes there.\n",
    "\n",
    "d"
   ]
  },
  {
   "cell_type": "markdown",
   "metadata": {},
   "source": [
    "Alright, let's check everything works!!!"
   ]
  },
  {
   "cell_type": "code",
   "execution_count": 11,
   "metadata": {},
   "outputs": [
    {
     "data": {
      "text/plain": [
       "(420, 65537, 420)"
      ]
     },
     "execution_count": 11,
     "metadata": {},
     "output_type": "execute_result"
    }
   ],
   "source": [
    "m = 420\n",
    "\n",
    "cipherText = pow(m, e, n)\n",
    "plainText = pow(cipherText, d, n)\n",
    "\n",
    "m, e, plainText"
   ]
  },
  {
   "cell_type": "markdown",
   "metadata": {},
   "source": [
    "# Now let's put the whole thing in to one neat package"
   ]
  },
  {
   "cell_type": "code",
   "execution_count": 4,
   "metadata": {},
   "outputs": [],
   "source": [
    "class RSAFixedKey:\n",
    "    def __init__(self, e=65537):\n",
    "        self.p = bigPrime(1024)\n",
    "        self.q = bigPrime(1024)\n",
    "        self.n = self.p * self.q\n",
    "        self.e = e\n",
    "        phi_n = lcm((self.p-1),(self.q-1))\n",
    "        _, self.d, _ = gcdExtended(e, phi_n)\n",
    "        if self.d < 0:\n",
    "            self.d = phi_n + self.d\n",
    "\n",
    "    def encrypt(self, data):\n",
    "        return pow(data, self.e, self.n)\n",
    "\n",
    "    def decrypt(self, data):\n",
    "        return pow(data, self.d, self.n)"
   ]
  },
  {
   "cell_type": "markdown",
   "metadata": {},
   "source": [
    "And let's test it out!"
   ]
  },
  {
   "cell_type": "code",
   "execution_count": 13,
   "metadata": {},
   "outputs": [
    {
     "data": {
      "text/plain": [
       "(69,\n",
       " 10381887356601132798020334627436706624842029712095337646696557740980093156011625747075751062186937254403309397368128943163258998894335715432471884013127971725077602037365314966589211967031092537233102648028338243571417623711113691488694006765883976427971441057233409799470429184602949814121077286382553982729493366415544490829762174521101373809199778469806690726134423774411719269464598788669799985826331712268078559945600713534705455171063114551917306051756076550057956438612941394611149008218938464409224587537402613195393273912547007769291259081660920857822286009060480253477742642741004628134815281151003824724342,\n",
       " 69)"
      ]
     },
     "execution_count": 13,
     "metadata": {},
     "output_type": "execute_result"
    }
   ],
   "source": [
    "rsa = RSAFixedKey()\n",
    "\n",
    "plainTextBefore = 69\n",
    "cipherText=rsa.encrypt(69)\n",
    "plainTextAfter=rsa.decrypt(cipherText)\n",
    "\n",
    "plainTextBefore, cipherText, plainTextAfter\n"
   ]
  },
  {
   "cell_type": "markdown",
   "metadata": {},
   "source": [
    "# Attack: Not picking a big enough exponent for $e$"
   ]
  },
  {
   "cell_type": "code",
   "execution_count": 14,
   "metadata": {},
   "outputs": [],
   "source": [
    "rsa = RSAFixedKey(e=3)"
   ]
  },
  {
   "cell_type": "code",
   "execution_count": 15,
   "metadata": {},
   "outputs": [
    {
     "data": {
      "text/plain": [
       "{'Trials': 50, 'Wins': 50}"
      ]
     },
     "execution_count": 15,
     "metadata": {},
     "output_type": "execute_result"
    }
   ],
   "source": [
    "from SemanticSecurityGame import SemanticSecurityGame\n",
    "\n",
    "class RSAGameStrategyLowExponent:\n",
    "    def getMessages(self, trialNumber):\n",
    "           m0 = 3\n",
    "           m1 = 2\n",
    "           \n",
    "           return m0, m1\n",
    "\n",
    "    def challenge(self, challenge, trialNumber):\n",
    "           result = challenge ** (1/3)\n",
    "\n",
    "           if result == 3:\n",
    "                return 0 \n",
    "           else:\n",
    "                return 1\n",
    "\n",
    "strategy = RSAGameStrategyLowExponent()\n",
    "game = SemanticSecurityGame(rsa, strategy)\n",
    "\n",
    "game.runGame(50)"
   ]
  },
  {
   "cell_type": "markdown",
   "metadata": {},
   "source": [
    "# Attack: The cipher-text is the same each time!"
   ]
  },
  {
   "cell_type": "code",
   "execution_count": 17,
   "metadata": {},
   "outputs": [],
   "source": [
    "rsa = RSAFixedKey()"
   ]
  },
  {
   "cell_type": "code",
   "execution_count": 17,
   "metadata": {},
   "outputs": [
    {
     "data": {
      "text/plain": [
       "{'Trials': 50, 'Wins': 49}"
      ]
     },
     "execution_count": 17,
     "metadata": {},
     "output_type": "execute_result"
    }
   ],
   "source": [
    "from SemanticSecurityGame import SemanticSecurityGame\n",
    "\n",
    "class RSAGameStrategy:\n",
    "    def getMessages(self, trialNumber):\n",
    "            if trialNumber == 0:\n",
    "                m0 = 69\n",
    "                m1 = 69\n",
    "            else:\n",
    "                m0 = 69\n",
    "                m1 = 420\n",
    "            return m0, m1 \n",
    "\n",
    "    def challenge(self, challenge, trialNumber):\n",
    "            if (trialNumber == 0):\n",
    "                self.savedMessage = challenge\n",
    "            if self.savedMessage == challenge:\n",
    "                return 0\n",
    "            else:\n",
    "                return 1\n",
    "\n",
    "strategy = RSAGameStrategy()\n",
    "            \n",
    "game = SemanticSecurityGame(rsa, strategy)\n",
    "\n",
    "game.runGame(50)"
   ]
  },
  {
   "cell_type": "markdown",
   "metadata": {},
   "source": [
    "# Attack: Algebraic properties of RSA"
   ]
  },
  {
   "cell_type": "code",
   "execution_count": 18,
   "metadata": {},
   "outputs": [
    {
     "data": {
      "text/plain": [
       "28980"
      ]
     },
     "execution_count": 18,
     "metadata": {},
     "output_type": "execute_result"
    }
   ],
   "source": [
    "m_0 = 69\n",
    "m_1 = 420\n",
    "\n",
    "m_2 = 420*69\n",
    "m_2"
   ]
  },
  {
   "cell_type": "markdown",
   "metadata": {},
   "source": [
    "And now we find the cipher-text for $c_2$ from the cipher-texts from $m_0$ and $m_1$."
   ]
  },
  {
   "cell_type": "code",
   "execution_count": 20,
   "metadata": {},
   "outputs": [
    {
     "data": {
      "text/plain": [
       "28980"
      ]
     },
     "execution_count": 20,
     "metadata": {},
     "output_type": "execute_result"
    }
   ],
   "source": [
    "c_0 = rsa.encrypt(m_0)\n",
    "c_1 = rsa.encrypt(m_1)\n",
    "\n",
    "c_2 = c_0*c_1 % rsa.n\n",
    "\n",
    "rsa.decrypt(c_2)"
   ]
  },
  {
   "cell_type": "markdown",
   "metadata": {},
   "source": [
    "# How to use RSA properly"
   ]
  },
  {
   "cell_type": "markdown",
   "metadata": {},
   "source": [
    "https://en.wikipedia.org/wiki/Optimal_asymmetric_encryption_padding"
   ]
  }
 ],
 "metadata": {
  "kernelspec": {
   "display_name": "Python 3",
   "language": "python",
   "name": "python3"
  },
  "language_info": {
   "codemirror_mode": {
    "name": "ipython",
    "version": 3
   },
   "file_extension": ".py",
   "mimetype": "text/x-python",
   "name": "python",
   "nbconvert_exporter": "python",
   "pygments_lexer": "ipython3",
   "version": "3.11.8"
  }
 },
 "nbformat": 4,
 "nbformat_minor": 2
}
