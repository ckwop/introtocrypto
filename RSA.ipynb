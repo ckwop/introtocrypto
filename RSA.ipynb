{
 "cells": [
  {
   "cell_type": "markdown",
   "metadata": {},
   "source": [
    "# RSA Implementation and common mistakes\n",
    "\n",
    "## How to set-up RSA for Dummies\n",
    "The first problem we have is generating primes of sufficient size. Let's start by making a little function to check if big numbers are prime"
   ]
  },
  {
   "cell_type": "code",
   "execution_count": 258,
   "metadata": {},
   "outputs": [],
   "source": [
    "from random import randint\n",
    "smallPrimes = [2, 3, 5, 7, 11, 13, 17, 19, 23, 29, 31, 37, 41, 43, 47, 53, 59, 61, 67, 71, 73, 79, 83, 89, 97, 101, 103, 107, 109, 113, \n",
    "            127, 131, 137, 139, 149, 151, 157, 163, 167, 173, 179, 181, 191, 193, 197, 199, 211, 223, 227, 229, 233, 239, 241, 251, \n",
    "            257, 263, 269, 271, 277, 281, 283, 293, 307, 311, 313, 317, 331, 337, 347, 349, 353, 359, 367, 373, 379, 383, 389, 397, \n",
    "            401, 409, 419, 421, 431, 433, 439, 443, 449, 457, 461, 463, 467, 479, 487, 491, 499, 503, 509, 521, 523, 541]\n",
    "\n",
    "def isPrime(n):\n",
    "    # Quickly test small factors.\n",
    "    if n in smallPrimes:\n",
    "            return True\n",
    "\n",
    "    # Use Fermat's little theorem to do the harder work on larger primes. (https://en.wikipedia.org/wiki/Fermat%27s_little_theorem)\n",
    "    for i in range(0, 50): \n",
    "        base = randint(2, n-1)\n",
    "        if pow(base, n-1, n) != 1: \n",
    "            return False\n",
    "    \n",
    "    return True"
   ]
  },
  {
   "cell_type": "markdown",
   "metadata": {},
   "source": [
    "And let's check we've not been completely stupid by checking a few cases:"
   ]
  },
  {
   "cell_type": "code",
   "execution_count": 259,
   "metadata": {},
   "outputs": [
    {
     "name": "stdout",
     "output_type": "stream",
     "text": [
      "2 True\n",
      "3 True\n",
      "10 False\n",
      "65537 True\n",
      "65539 True\n",
      "65541 False\n"
     ]
    }
   ],
   "source": [
    "print(2, isPrime(2))\n",
    "print(3, isPrime(3))\n",
    "print(10, isPrime(10))\n",
    "\n",
    "print(65537, isPrime(65537))\n",
    "print(65539, isPrime(65539))\n",
    "print(65541, isPrime(65541))\n",
    "\n"
   ]
  },
  {
   "cell_type": "markdown",
   "metadata": {},
   "source": [
    "And now for something a bit bigger. \n",
    "\n",
    "This prime was nicked from the [RFC 3526](https://www.rfc-editor.org/rfc/rfc3526.txt). "
   ]
  },
  {
   "cell_type": "code",
   "execution_count": 260,
   "metadata": {},
   "outputs": [
    {
     "data": {
      "text/plain": [
       "True"
      ]
     },
     "execution_count": 260,
     "metadata": {},
     "output_type": "execute_result"
    }
   ],
   "source": [
    "bigPrime = \"\"\"FFFFFFFF FFFFFFFF C90FDAA2 2168C234 C4C6628B 80DC1CD1\n",
    "      29024E08 8A67CC74 020BBEA6 3B139B22 514A0879 8E3404DD\n",
    "      EF9519B3 CD3A431B 302B0A6D F25F1437 4FE1356D 6D51C245\n",
    "      E485B576 625E7EC6 F44C42E9 A637ED6B 0BFF5CB6 F406B7ED\n",
    "      EE386BFB 5A899FA5 AE9F2411 7C4B1FE6 49286651 ECE45B3D\n",
    "      C2007CB8 A163BF05 98DA4836 1C55D39A 69163FA8 FD24CF5F\n",
    "      83655D23 DCA3AD96 1C62F356 208552BB 9ED52907 7096966D\n",
    "      670C354E 4ABC9804 F1746C08 CA18217C 32905E46 2E36CE3B\n",
    "      E39E772C 180E8603 9B2783A2 EC07A28F B5C55DF0 6F4C52C9\n",
    "      DE2BCBF6 95581718 3995497C EA956AE5 15D22618 98FA0510\n",
    "      15728E5A 8AACAA68 FFFFFFFF FFFFFFFF\"\"\"\n",
    "\n",
    "bigPrime = bigPrime.replace(\" \", \"\")\n",
    "bigPrime = bigPrime.replace(\"\\n\", \"\")\n",
    "\n",
    "bigDaddy = int(bigPrime, 16)\n",
    "\n",
    "isPrime(bigDaddy)"
   ]
  },
  {
   "cell_type": "markdown",
   "metadata": {},
   "source": [
    "Alright, so how do we generate a large random prime. The code below implements the process:"
   ]
  },
  {
   "cell_type": "code",
   "execution_count": 261,
   "metadata": {},
   "outputs": [],
   "source": [
    "def bigPrime(bits):\n",
    "    from random import getrandbits\n",
    "    p = getrandbits(bits)\n",
    "    while not isPrime(p):\n",
    "        p = getrandbits(bits)\n",
    "    return p"
   ]
  },
  {
   "cell_type": "markdown",
   "metadata": {},
   "source": [
    "Does this prove that the numbers are prime? Of course not, they're sort of \"industrial strength\" primes.\n",
    "\n",
    "Alrighty then, let's generate some primes:"
   ]
  },
  {
   "cell_type": "code",
   "execution_count": 262,
   "metadata": {},
   "outputs": [
    {
     "data": {
      "text/plain": [
       "(133130445491212145520478326441409709283291423178470109782975496713539201509380469129158860234024928826882744532790807463353370316261109075070843062154683744002614957378888117062512815658837648553451977261644723850230561353760118379138323522924090714973846458425942681178673040084048356418518872315165465220033,\n",
       " 141908663200565974701123062962647743019751568166833687946556797248869128053850868048716225186195531236496258289977648085244861135135841973290976964902815015015773677077786011048263943946520703527471605675871987613817338949744818593175515657786361369119950301008744006515422023204843369472653676292776540723931)"
      ]
     },
     "execution_count": 262,
     "metadata": {},
     "output_type": "execute_result"
    }
   ],
   "source": [
    "p = bigPrime(1024)\n",
    "q = bigPrime(1024)\n",
    "\n",
    "p,q"
   ]
  },
  {
   "cell_type": "markdown",
   "metadata": {},
   "source": [
    "And multiply to get a modulus:"
   ]
  },
  {
   "cell_type": "code",
   "execution_count": 263,
   "metadata": {},
   "outputs": [
    {
     "data": {
      "text/plain": [
       "18892363550953731382512216549102948606458647605997463372813292230034576272056310415115762784827605337383369710470016725449518590305209047528702959702753594647099550917680196353769570751738966481104372683631663107050635565434205818085230944348215843339760028317443154062727893567952475981103017836956517865508577226785610542515175731151514749845124381898102645633291012733448295478488543265555642911587236621243730754416148951969065349237970499909000193161073846998560269302326410931618134466152533857087157648354871491939820108934073344965875763770792424437380745240147549180951716006431767226466479909650828023709723"
      ]
     },
     "execution_count": 263,
     "metadata": {},
     "output_type": "execute_result"
    }
   ],
   "source": [
    "n = p * q\n",
    "n"
   ]
  },
  {
   "cell_type": "markdown",
   "metadata": {},
   "source": [
    "# Explanation of the role of Extended GCD / LCM\n",
    "\n",
    "The extended Euclian algorithm is the standard GCD algorithm extended to show more of its internal state. It's used to find solutions to the equations of the form:\n",
    "\n",
    "$$(ax + by) = gcd(x, y)$$\n",
    "\n",
    "In our case, we're looking for a solution such that:\n",
    "\n",
    "$$e \\times d \\equiv {1 \\mod {\\text{lcm} (p-1,q-1)}}$$\n",
    "\n",
    "So, if we substitute:\n",
    "\n",
    "$$ex + (b \\times {\\text{lcm} (p-1,q-1)}) = gcd(e, {\\text{lcm} (p-1,q-1)})$$\n",
    "\n",
    "But by requirement for the scheme to work:\n",
    "\n",
    "$$gcd(e, {\\text{lcm} (p-1,q-1)}) = 1$$\n",
    "\n",
    "So we can rewrite the right hand side to 1:\n",
    "\n",
    "$$(e \\times x) + (b \\times {\\text{lcm} (p-1,q-1)}) = 1$$\n",
    "\n",
    "Now we take both sides  $\\mod {\\text{lcm} (p-1,q-1)}$:\n",
    "\n",
    "$$((e \\times x) + (b \\times {\\text{lcm} (p-1,q-1)})) \\mod {\\text{lcm} (p-1,q-1)} \\equiv 1 \\mod {\\text{lcm} (p-1,q-1)}$$\n",
    "\n",
    "But notice that we just have $b$ multiplied by the thing in the mod, so we can simplify:\n",
    "\n",
    "$$ex \\equiv 1 \\mod {\\text{lcm} (p-1,q-1)}$$\n",
    "\n",
    "This looks like our target equation above, so $x=d$ which is our encryption exponent."
   ]
  },
  {
   "cell_type": "code",
   "execution_count": 264,
   "metadata": {},
   "outputs": [],
   "source": [
    "def gcdExtended(a, b):\n",
    "\t\tif a == 0 :   \n",
    "\t\t\treturn b,0,1\n",
    "\t\t     \n",
    "\t\tgcd,x1,y1 = gcdExtended(b % a, a)  \n",
    "     \n",
    "\t\tx = y1 - (b//a) * x1  \n",
    "\t\ty = x1  \n",
    "\t     \n",
    "\t\treturn gcd,x,y \n",
    "\n",
    "def lcm(a, b):\n",
    "\tgcd, _, _ = gcdExtended(a, b)\n",
    "\treturn (a * b) // gcd\n"
   ]
  },
  {
   "cell_type": "markdown",
   "metadata": {},
   "source": [
    "Right, now we get to the business end of setting up RSA. First we need to compute phi(n), which is the number of numbers relatively prime to \"n\""
   ]
  },
  {
   "cell_type": "code",
   "execution_count": 265,
   "metadata": {},
   "outputs": [],
   "source": [
    "phi_n = lcm(p-1, q-1)"
   ]
  },
  {
   "cell_type": "markdown",
   "metadata": {},
   "source": [
    "Next we need to define what we want for the encryption exponent. It needs to be big enough so that when we do m^e it is bigger than p and thus \"loops around\""
   ]
  },
  {
   "cell_type": "code",
   "execution_count": 239,
   "metadata": {},
   "outputs": [],
   "source": [
    "e = 65537"
   ]
  },
  {
   "cell_type": "markdown",
   "metadata": {},
   "source": [
    "Now the final step, let's compute d from phi_n and e."
   ]
  },
  {
   "cell_type": "code",
   "execution_count": 266,
   "metadata": {},
   "outputs": [
    {
     "data": {
      "text/plain": [
       "119092785310176638862870349693800873283063396293750594180790183329118108764084099002625738617627541376956142421389889189820861884982387329934825688179671609608068699238957493453698842671744128642182279184952262579078693142320429637736059809734466817145058508028951128853268374340998884102398866258706421097545403368586323616064295391799535863009106841581653346712315613878048576704657093415703649575797850697604832376223046630471200153123375980304745679110272292334156901131647239526610050932937501786784239425352958793310656170058917519221374366819225889107972964394153920415874584225916611761722366815138772252033"
      ]
     },
     "execution_count": 266,
     "metadata": {},
     "output_type": "execute_result"
    }
   ],
   "source": [
    "_, d, _ = gcdExtended(e, phi_n)\n",
    "\n",
    "if d < 0:\n",
    "\td = phi_n + d # d is negative. Lost a good 45 minutes there.\n",
    "\n",
    "d"
   ]
  },
  {
   "cell_type": "markdown",
   "metadata": {},
   "source": [
    "Alright, let's check everything works!!!"
   ]
  },
  {
   "cell_type": "code",
   "execution_count": 267,
   "metadata": {},
   "outputs": [
    {
     "data": {
      "text/plain": [
       "(420, 65537, 420)"
      ]
     },
     "execution_count": 267,
     "metadata": {},
     "output_type": "execute_result"
    }
   ],
   "source": [
    "m = 420\n",
    "\n",
    "cipherText = pow(m, e, n)\n",
    "plainText = pow(cipherText, d, n)\n",
    "\n",
    "m, e, plainText"
   ]
  },
  {
   "cell_type": "markdown",
   "metadata": {},
   "source": [
    "# Now let's put the whole thing in to one neat package"
   ]
  },
  {
   "cell_type": "code",
   "execution_count": 268,
   "metadata": {},
   "outputs": [],
   "source": [
    "class RSAFixedKey:\n",
    "    def __init__(self, e=65537):\n",
    "        self.p = bigPrime(1024)\n",
    "        self.q = bigPrime(1024)\n",
    "        self.n = self.p * self.q\n",
    "        self.e = e\n",
    "        phi_n = lcm((self.p-1),(self.q-1))\n",
    "        _, self.d, _ = gcdExtended(e, phi_n)\n",
    "        if self.d < 0:\n",
    "            self.d = phi_n + self.d\n",
    "\n",
    "    def encrypt(self, data):\n",
    "        return pow(data, self.e, self.n)\n",
    "\n",
    "    def decrypt(self, data):\n",
    "        return pow(data, self.d, self.n)"
   ]
  },
  {
   "cell_type": "markdown",
   "metadata": {},
   "source": [
    "And let's test it out!"
   ]
  },
  {
   "cell_type": "code",
   "execution_count": 269,
   "metadata": {},
   "outputs": [
    {
     "data": {
      "text/plain": [
       "(69,\n",
       " 19154571854219123118017408917716215318225928995574100265451993774620852654933216924714111483015469116247834665962470277924220952689276325757573546374476457852238490238109605879693812706634809098345056594875433597333694912946011917981328968771058020603847165470643472802431995808263482466171068746417056851302819612183812968741112098029829055994177020315464685719045539330649373149513038253553018091964301164518857673813760061706705014244884983227779363041551049773986525706238355939455460171452203151292432218002004379792757575128955512600227534528976876690477328226118712130275458174146330886873137273582197869776168,\n",
       " 69)"
      ]
     },
     "execution_count": 269,
     "metadata": {},
     "output_type": "execute_result"
    }
   ],
   "source": [
    "rsa = RSAFixedKey()\n",
    "\n",
    "plainTextBefore = 69\n",
    "cipherText=rsa.encrypt(69)\n",
    "plainTextAfter=rsa.decrypt(cipherText)\n",
    "\n",
    "plainTextBefore, cipherText, plainTextAfter\n"
   ]
  },
  {
   "cell_type": "markdown",
   "metadata": {},
   "source": [
    "# Attack: Not picking a big enough exponent for $e$"
   ]
  },
  {
   "cell_type": "code",
   "execution_count": 270,
   "metadata": {},
   "outputs": [],
   "source": [
    "rsa = RSAFixedKey(e=3)"
   ]
  },
  {
   "cell_type": "code",
   "execution_count": 271,
   "metadata": {},
   "outputs": [
    {
     "data": {
      "text/plain": [
       "{'Trials': 50, 'Wins': 50}"
      ]
     },
     "execution_count": 271,
     "metadata": {},
     "output_type": "execute_result"
    }
   ],
   "source": [
    "from SemanticSecurityGame import SemanticSecurityGame\n",
    "\n",
    "class RSAGameStrategyLowExponent:\n",
    "    def getMessages(self, trialNumber):\n",
    "           m0 = 3\n",
    "           m1 = 2\n",
    "           \n",
    "           return m0, m1\n",
    "\n",
    "    def challenge(self, challenge, trialNumber):\n",
    "           result = challenge ** (1/3)\n",
    "\n",
    "           if result == 3:\n",
    "                return 0 \n",
    "           else:\n",
    "                return 1\n",
    "\n",
    "strategy = RSAGameStrategyLowExponent()\n",
    "game = SemanticSecurityGame(rsa, strategy)\n",
    "\n",
    "game.runGame(50)"
   ]
  },
  {
   "cell_type": "markdown",
   "metadata": {},
   "source": [
    "# Attack: The cipher-text is the same each time!"
   ]
  },
  {
   "cell_type": "code",
   "execution_count": 272,
   "metadata": {},
   "outputs": [],
   "source": [
    "rsa = RSAFixedKey()"
   ]
  },
  {
   "cell_type": "code",
   "execution_count": 274,
   "metadata": {},
   "outputs": [
    {
     "data": {
      "text/plain": [
       "{'Trials': 50, 'Wins': 50}"
      ]
     },
     "execution_count": 274,
     "metadata": {},
     "output_type": "execute_result"
    }
   ],
   "source": [
    "from SemanticSecurityGame import SemanticSecurityGame\n",
    "\n",
    "class RSAGameStrategy:\n",
    "    def getMessages(self, trialNumber):\n",
    "            if trialNumber == 0:\n",
    "                m0 = 69\n",
    "                m1 = 69\n",
    "            else:\n",
    "                m0 = 69\n",
    "                m1 = 420\n",
    "            return m0, m1 \n",
    "\n",
    "    def challenge(self, challenge, trialNumber):\n",
    "            if (trialNumber == 0):\n",
    "                self.savedMessage = challenge\n",
    "            if self.savedMessage == challenge:\n",
    "                return 0\n",
    "            else:\n",
    "                return 1\n",
    "\n",
    "strategy = RSAGameStrategy()\n",
    "            \n",
    "game = SemanticSecurityGame(rsa, strategy)\n",
    "\n",
    "game.runGame(50)"
   ]
  }
 ],
 "metadata": {
  "kernelspec": {
   "display_name": "Python 3",
   "language": "python",
   "name": "python3"
  },
  "language_info": {
   "codemirror_mode": {
    "name": "ipython",
    "version": 3
   },
   "file_extension": ".py",
   "mimetype": "text/x-python",
   "name": "python",
   "nbconvert_exporter": "python",
   "pygments_lexer": "ipython3",
   "version": "3.11.8"
  }
 },
 "nbformat": 4,
 "nbformat_minor": 2
}
