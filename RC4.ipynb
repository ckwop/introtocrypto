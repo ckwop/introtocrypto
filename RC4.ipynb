{
 "cells": [
  {
   "cell_type": "markdown",
   "metadata": {},
   "source": [
    "# Intro to Crypto by Breaking Things\n",
    "\n",
    "Let's start by defining the game in Python"
   ]
  },
  {
   "cell_type": "code",
   "execution_count": 56,
   "metadata": {},
   "outputs": [],
   "source": [
    "class SemanticSecurityGame:\n",
    "    \n",
    "    def __init__(self, cryptoScheme, challenger):\n",
    "        self.cryptoScheme = cryptoScheme\n",
    "        self.challenger = challenger\n",
    "        self.numberOfTrials = 0\n",
    "        self.numberOfSuccesses = 0\n",
    "    \n",
    "    def runGame(self, maximumTrials):\n",
    "        from random import randint\n",
    "        while self.numberOfTrials < maximumTrials:\n",
    "            m1, m2 = self.challenger.getMessages(self.numberOfTrials)\n",
    "            choice = randint(0, 1)\n",
    "\n",
    "            plainText = m2\n",
    "            if choice == 0:\n",
    "                plainText = m1\n",
    "\n",
    "            cipherText = self.cryptoScheme.encrypt(plainText)\n",
    "\n",
    "            result = self.challenger.challenge(cipherText, self.numberOfTrials)\n",
    "\n",
    "            if result == choice:\n",
    "                self.numberOfSuccesses = self.numberOfSuccesses + 1\n",
    "            \n",
    "            self.numberOfTrials =  self.numberOfTrials + 1\n",
    "        \n",
    "        return { \"Trials\": self.numberOfTrials, \"Wins\" : self.numberOfSuccesses }\n",
    "            "
   ]
  },
  {
   "cell_type": "markdown",
   "metadata": {},
   "source": [
    "Next we want to implement RC4 as a crypto-scheme following the contract laid out here.  \n",
    "\n",
    "The code for this follows below:"
   ]
  },
  {
   "cell_type": "code",
   "execution_count": 2,
   "metadata": {},
   "outputs": [],
   "source": [
    "class RC4:\n",
    "   \n",
    "    def __init__(self, key):\n",
    "        self.internalState = bytearray(range(256))\n",
    "        x=0\n",
    "        for i in range(256):\n",
    "            x = (x + self.internalState[i] + key[i % len(key)]) % 256\n",
    "            self.swap(x, i)\n",
    "\n",
    "        self.x = 0 \n",
    "        self.y = 0\n",
    "\n",
    "    def swap(self, x, y):\n",
    "        self.internalState[x], self.internalState[y] = self.internalState[y], self.internalState[x]\n",
    "\n",
    "    def clock(self):\n",
    "         self.x = (self.x + 1) % 256\n",
    "         self.y = (self.y + self.internalState[self.x]) % 256\n",
    "         self.swap(self.x, self.y)\n",
    "\n",
    "         internalPosition = (self.internalState[self.x] + self.internalState[self.y]) % 256\n",
    "\n",
    "         return self.internalState[internalPosition]\n",
    "\n",
    "    def encrypt(self, data):\n",
    "        out = []\n",
    "        for byte in data:\n",
    "            out.append(byte ^ self.clock())\n",
    "        return out"
   ]
  },
  {
   "cell_type": "markdown",
   "metadata": {},
   "source": [
    "We can check we got the code right for the RC4 by running a check from RFC 6629:"
   ]
  },
  {
   "cell_type": "code",
   "execution_count": 3,
   "metadata": {},
   "outputs": [
    {
     "data": {
      "text/plain": [
       "(True,\n",
       " [178, 57, 99, 5, 240, 61, 192, 39, 204, 195, 82, 74, 10, 17, 24, 168],\n",
       " [178, 57, 99, 5, 240, 61, 192, 39, 204, 195, 82, 74, 10, 17, 24, 168])"
      ]
     },
     "execution_count": 3,
     "metadata": {},
     "output_type": "execute_result"
    }
   ],
   "source": [
    "data = [0]*16\n",
    "key = [0x01,0x02,0x03,0x04,0x05]\n",
    "\n",
    "testVector = [0xb2,0x39,0x63,0x05,0xf0,0x3d,0xc0,0x27,0xcc,0xc3,0x52,0x4a,0x0a,0x11,0x18,0xa8] \n",
    "\n",
    "rc4 = RC4(key)\n",
    "\n",
    "cipherText = rc4.encrypt(data)\n",
    "\n",
    "cipherText == testVector, cipherText, testVector"
   ]
  },
  {
   "cell_type": "markdown",
   "metadata": {},
   "source": [
    "## Using the same key twice with a stream cipher\n",
    "\n",
    "Stream ciphers (generally) a new random key for each message that's encrypted. This is definitely the case with RC4. Let's show why re-using the key is insecure.\n",
    "\n",
    "The first thing we need to do is create a crypto-scheme that just encrypts with the same key each time:"
   ]
  },
  {
   "cell_type": "code",
   "execution_count": 48,
   "metadata": {},
   "outputs": [],
   "source": [
    "class RC4RepeatedKey:\n",
    "    def encrypt(self, data):\n",
    "        rc4 = RC4([0, 1, 2, 3, 4])\n",
    "        return rc4.encrypt(data)"
   ]
  },
  {
   "cell_type": "markdown",
   "metadata": {},
   "source": [
    "Next, we need a strategy to defeat the game. In this case, we'll pass the same message twice on the first iteration, get the cipher text and use this to distinguish."
   ]
  },
  {
   "cell_type": "code",
   "execution_count": 53,
   "metadata": {},
   "outputs": [
    {
     "data": {
      "text/plain": [
       "(150, 150)"
      ]
     },
     "execution_count": 53,
     "metadata": {},
     "output_type": "execute_result"
    }
   ],
   "source": [
    "class RC4RepeatedKeyStrategy:\n",
    "    def getMessages(self, trialNumber):\n",
    "        m0 = [0, 0, 0, 0]\n",
    "        m1 = [1, 1, 1, 1]\n",
    "\n",
    "        if trialNumber == 0:\n",
    "            return m0, m0\n",
    "        else:\n",
    "            return m0, m1 \n",
    "\n",
    "    def challenge(self, challenge, trialNumber):\n",
    "        if trialNumber == 0:\n",
    "            self.m0Encrypted = challenge\n",
    "            return 0\n",
    "        else:\n",
    "            if challenge == self.m0Encrypted:\n",
    "                return 0\n",
    "            else:\n",
    "                return 1"
   ]
  },
  {
   "cell_type": "markdown",
   "metadata": {},
   "source": [
    "Now let's actually try our first challenge!!!!"
   ]
  },
  {
   "cell_type": "code",
   "execution_count": 63,
   "metadata": {},
   "outputs": [
    {
     "data": {
      "text/plain": [
       "{'Trials': 200, 'Wins': 200}"
      ]
     },
     "execution_count": 63,
     "metadata": {},
     "output_type": "execute_result"
    }
   ],
   "source": [
    "cipherScheme = RC4RepeatedKey()\n",
    "strategy = RC4RepeatedKeyStrategy()\n",
    "game = SemanticSecurityGame(cipherScheme, strategy)\n",
    "game.runGame(200)"
   ]
  }
 ],
 "metadata": {
  "kernelspec": {
   "display_name": "Python 3",
   "language": "python",
   "name": "python3"
  },
  "language_info": {
   "codemirror_mode": {
    "name": "ipython",
    "version": 3
   },
   "file_extension": ".py",
   "mimetype": "text/x-python",
   "name": "python",
   "nbconvert_exporter": "python",
   "pygments_lexer": "ipython3",
   "version": "3.11.8"
  }
 },
 "nbformat": 4,
 "nbformat_minor": 2
}
